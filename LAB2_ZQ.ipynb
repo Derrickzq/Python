{
 "cells": [
  {
   "cell_type": "code",
   "execution_count": 1,
   "metadata": {},
   "outputs": [
    {
     "ename": "ModuleNotFoundError",
     "evalue": "No module named 'pandas'",
     "output_type": "error",
     "traceback": [
      "\u001b[0;31m---------------------------------------------------------------------------\u001b[0m",
      "\u001b[0;31mModuleNotFoundError\u001b[0m                       Traceback (most recent call last)",
      "\u001b[0;32m<ipython-input-1-28a8c54d2004>\u001b[0m in \u001b[0;36m<module>\u001b[0;34m\u001b[0m\n\u001b[1;32m      2\u001b[0m \u001b[0;32mimport\u001b[0m \u001b[0mmath\u001b[0m\u001b[0;34m\u001b[0m\u001b[0;34m\u001b[0m\u001b[0m\n\u001b[1;32m      3\u001b[0m \u001b[0;32mimport\u001b[0m \u001b[0mnumpy\u001b[0m \u001b[0;32mas\u001b[0m \u001b[0mnp\u001b[0m\u001b[0;34m\u001b[0m\u001b[0;34m\u001b[0m\u001b[0m\n\u001b[0;32m----> 4\u001b[0;31m \u001b[0;32mimport\u001b[0m \u001b[0mpandas\u001b[0m \u001b[0;32mas\u001b[0m \u001b[0mpd\u001b[0m\u001b[0;34m\u001b[0m\u001b[0;34m\u001b[0m\u001b[0m\n\u001b[0m\u001b[1;32m      5\u001b[0m \u001b[0;32mimport\u001b[0m \u001b[0mmatplotlib\u001b[0m\u001b[0;34m.\u001b[0m\u001b[0mpyplot\u001b[0m \u001b[0;32mas\u001b[0m \u001b[0mplt\u001b[0m\u001b[0;34m\u001b[0m\u001b[0;34m\u001b[0m\u001b[0m\n\u001b[1;32m      6\u001b[0m \u001b[0;32mimport\u001b[0m \u001b[0mseaborn\u001b[0m \u001b[0;32mas\u001b[0m \u001b[0msns\u001b[0m\u001b[0;34m\u001b[0m\u001b[0;34m\u001b[0m\u001b[0m\n",
      "\u001b[0;31mModuleNotFoundError\u001b[0m: No module named 'pandas'"
     ]
    }
   ],
   "source": [
    "import time\n",
    "import math\n",
    "import numpy as np\n",
    "import pandas as pd\n",
    "import matplotlib.pyplot as plt\n",
    "import seaborn as sns\n",
    "from mpl_toolkits.mplot3d import Axes3D\n",
    "\n",
    "from sklearn.preprocessing import OneHotEncoder\n",
    "from sklearn.preprocessing import StandardScaler\n",
    "from sklearn.decomposition import PCA\n",
    "from sklearn.linear_model import LinearRegression\n",
    "from sklearn.pipeline import make_pipeline\n",
    "from sklearn.model_selection import train_test_split\n",
    "from sklearn.model_selection import cross_val_score"
   ]
  },
  {
   "cell_type": "code",
   "execution_count": null,
   "metadata": {},
   "outputs": [],
   "source": [
    "#Define the power funtion\n",
    "\n",
    "def Power(X, u, v, n_iter):\n",
    "    for i in range(n_iter):\n",
    "        u, v = X @ v, X.T @ u\n",
    "        u, v = u / np.linalg.norm(u), v/np.linalg.norm(v) \n",
    "    return u,v"
   ]
  },
  {
   "cell_type": "code",
   "execution_count": null,
   "metadata": {},
   "outputs": [],
   "source": [
    "#Illustrate the convergence of the algorithm iterates\n",
    "\n",
    "def dominant(G):\n",
    "    eigval,eigvec = np.linalg.eig(G)\n",
    "    sort_idx = np.argsort(eigval)\n",
    "    eigvec_max = eigvec[:,sort_idx[-1]]\n",
    "    return eigvec_max\n",
    "\n",
    "u_group = []\n",
    "v_group = []\n",
    "size = (10, 2000)\n",
    "X = np.random.normal(loc=0.0, scale=np.sqrt(5), size=size)\n",
    "u = np.random.random(X.shape[0]) # create a random N*1 vector\n",
    "v = np.random.random(X.shape[1]) # create a random P*1 vector\n",
    "\n",
    "for i in range(100):\n",
    "    u, v = Power(X, u, v, i)\n",
    "    u_group.append(u)\n",
    "    v_group.append(v)\n",
    "dominant_v = dominant(X.T @ X)\n",
    "dominant_u = dominant(X @ X.T)\n",
    "dis_v = [np.linalg.norm(v - dominant_v) for v in v_group]\n",
    "dis_u = [np.linalg.norm(u - dominant_u) for u in u_group]\n",
    "\n",
    "fig = plt.figure(figsize=(10,6))\n",
    "ax1, ax2 = fig.subplots(1, 2, sharey=True) \n",
    "ax1.plot(dis_v)\n",
    "ax2.plot(dis_u)"
   ]
  }
 ],
 "metadata": {
  "kernelspec": {
   "display_name": "Python 3.8.0 64-bit",
   "language": "python",
   "name": "python38064bitf45f9c91c285422182246ac2af1ba234"
  }
 },
 "nbformat": 4,
 "nbformat_minor": 2
}
