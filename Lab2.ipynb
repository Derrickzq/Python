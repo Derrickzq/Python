{
 "metadata": {
  "language_info": {
   "codemirror_mode": {
    "name": "ipython",
    "version": 3
   },
   "file_extension": ".py",
   "mimetype": "text/x-python",
   "name": "python",
   "nbconvert_exporter": "python",
   "pygments_lexer": "ipython3",
   "version": "3.8.3-final"
  },
  "orig_nbformat": 2,
  "kernelspec": {
   "name": "Python 3.8.3 64-bit ('base': conda)",
   "display_name": "Python 3.8.3 64-bit ('base': conda)",
   "metadata": {
    "interpreter": {
     "hash": "07efdcd4b820c98a756949507a4d29d7862823915ec7477944641bea022f4f62"
    }
   }
  }
 },
 "nbformat": 4,
 "nbformat_minor": 2,
 "cells": [
  {
   "cell_type": "code",
   "execution_count": 2,
   "metadata": {},
   "outputs": [],
   "source": [
    "import numpy as np\n",
    "import pandas as pd\n",
    "from timeit import timeit\n",
    "import matplotlib  \n",
    "import matplotlib.pyplot as plt\n",
    "%matplotlib inline\n",
    "import scipy\n",
    "import seaborn as sns"
   ]
  },
  {
   "source": [
    "1)"
   ],
   "cell_type": "markdown",
   "metadata": {}
  },
  {
   "cell_type": "code",
   "execution_count": null,
   "metadata": {},
   "outputs": [],
   "source": [
    "def check(n, p, l):\n",
    "    X = np.random.normal(loc=0.0, scale=np.sqrt(5), size=(n,p))\n",
    "    y = np.random.uniform(low=-1, high=1, size=(n,1))\n",
    "    sym_n = np.dot(X, X.T)\n",
    "    sym_p = np.dot(X.T, X)\n",
    "    inver1 = np.linalg.solve(sym_n + l * np.identity(n), y)\n",
    "    val_left = np.dot(X.T, inver1)\n",
    "    inver2 = np.linalg.solve(sym_p + l * np.identity(p), np.dot(X.T, y))\n",
    "    val_right = inver2\n",
    "    if np.allclose(val_left, val_right):\n",
    "        print(\"The equation is OK!\")\n",
    "    else:\n",
    "        print(\"The equation is not true.\")\n",
    "    return \n",
    "check(100, 2000, 1e-5)\n",
    "check(2000, 100, 1e-5)"
   ]
  },
  {
   "cell_type": "code",
   "execution_count": null,
   "metadata": {},
   "outputs": [],
   "source": [
    "def right(n,p):\n",
    "    X = np.random.normal(loc=0.0, scale=np.sqrt(5), size=(n,p))\n",
    "    y = np.random.uniform(low=-1, high=1, size=(n,1))\n",
    "    val_right = np.linalg.solve(np.dot(X.T, X) + 1e-5 * np.identity(p), np.dot(X.T, y))\n",
    "    return val_right\n",
    "\n",
    "def left(n,p):\n",
    "    X = np.random.normal(loc=0.0, scale=np.sqrt(5), size=(n,p))\n",
    "    y = np.random.uniform(low=-1, high=1, size=(n,1))  \n",
    "    val_left = np.dot(X.T, np.linalg.solve(np.dot(X, X.T) + 1e-5 * np.identity(n), y))\n",
    "    return val_left\n",
    "def t_compare(n, p):\n",
    "    t_left = timeit('left(n, p)', number=1000)\n",
    "    t_right = timeit('right(n, p)', number=1000)\n",
    "    if t_left > t_right:\n",
    "        print(\"The right side of the equation computes more efficiently!\")\n",
    "    else:\n",
    "        print(\"The left side of the equation computes more efficiently!\")\n",
    "    return t_left, t_right"
   ]
  },
  {
   "cell_type": "code",
   "execution_count": null,
   "metadata": {},
   "outputs": [],
   "source": [
    "t_compare(1000, 100)"
   ]
  },
  {
   "source": [
    "2) Random matrix spectrum"
   ],
   "cell_type": "markdown",
   "metadata": {}
  },
  {
   "cell_type": "code",
   "execution_count": null,
   "metadata": {},
   "outputs": [],
   "source": [
    "def distribution(n, p, law):\n",
    "    if law = 'Uniform':\n",
    "        rand_M = np.random.uniform(-2 * sqrt(3), 2 * sqrt(3), (n,p))\n",
    "    elif law = 'uniform'\n",
    "        rand_M = np.random.cauchy\n",
    "    elif law = 'beta'"
   ]
  },
  {
   "cell_type": "code",
   "execution_count": 8,
   "metadata": {},
   "outputs": [
    {
     "output_type": "stream",
     "name": "stdout",
     "text": [
      "Help on built-in function noncentral_chisquare:\n\nnoncentral_chisquare(...) method of numpy.random.mtrand.RandomState instance\n    noncentral_chisquare(df, nonc, size=None)\n    \n    Draw samples from a noncentral chi-square distribution.\n    \n    The noncentral :math:`\\chi^2` distribution is a generalization of\n    the :math:`\\chi^2` distribution.\n    \n    .. note::\n        New code should use the ``noncentral_chisquare`` method of a ``default_rng()``\n        instance instead; see `random-quick-start`.\n    \n    Parameters\n    ----------\n    df : float or array_like of floats\n        Degrees of freedom, must be > 0.\n    \n        .. versionchanged:: 1.10.0\n           Earlier NumPy versions required dfnum > 1.\n    nonc : float or array_like of floats\n        Non-centrality, must be non-negative.\n    size : int or tuple of ints, optional\n        Output shape.  If the given shape is, e.g., ``(m, n, k)``, then\n        ``m * n * k`` samples are drawn.  If size is ``None`` (default),\n        a single value is returned if ``df`` and ``nonc`` are both scalars.\n        Otherwise, ``np.broadcast(df, nonc).size`` samples are drawn.\n    \n    Returns\n    -------\n    out : ndarray or scalar\n        Drawn samples from the parameterized noncentral chi-square distribution.\n    \n    See Also\n    --------\n    Generator.noncentral_chisquare: which should be used for new code.\n    \n    Notes\n    -----\n    The probability density function for the noncentral Chi-square\n    distribution is\n    \n    .. math:: P(x;df,nonc) = \\sum^{\\infty}_{i=0}\n                           \\frac{e^{-nonc/2}(nonc/2)^{i}}{i!}\n                           P_{Y_{df+2i}}(x),\n    \n    where :math:`Y_{q}` is the Chi-square with q degrees of freedom.\n    \n    References\n    ----------\n    .. [1] Wikipedia, \"Noncentral chi-squared distribution\"\n           https://en.wikipedia.org/wiki/Noncentral_chi-squared_distribution\n    \n    Examples\n    --------\n    Draw values from the distribution and plot the histogram\n    \n    >>> import matplotlib.pyplot as plt\n    >>> values = plt.hist(np.random.noncentral_chisquare(3, 20, 100000),\n    ...                   bins=200, density=True)\n    >>> plt.show()\n    \n    Draw values from a noncentral chisquare with very small noncentrality,\n    and compare to a chisquare.\n    \n    >>> plt.figure()\n    >>> values = plt.hist(np.random.noncentral_chisquare(3, .0000001, 100000),\n    ...                   bins=np.arange(0., 25, .1), density=True)\n    >>> values2 = plt.hist(np.random.chisquare(3, 100000),\n    ...                    bins=np.arange(0., 25, .1), density=True)\n    >>> plt.plot(values[1][0:-1], values[0]-values2[0], 'ob')\n    >>> plt.show()\n    \n    Demonstrate how large values of non-centrality lead to a more symmetric\n    distribution.\n    \n    >>> plt.figure()\n    >>> values = plt.hist(np.random.noncentral_chisquare(3, 20, 100000),\n    ...                   bins=200, density=True)\n    >>> plt.show()\n\n"
     ]
    }
   ],
   "source": [
    "help(np.random.noncentral_chisquare)"
   ]
  },
  {
   "source": [
    "3)"
   ],
   "cell_type": "markdown",
   "metadata": {}
  },
  {
   "cell_type": "code",
   "execution_count": 4,
   "metadata": {},
   "outputs": [
    {
     "output_type": "execute_result",
     "data": {
      "text/plain": [
       "(array([-0.40064455, -0.48908501, -0.25784611,  0.73061288]),\n",
       " array([-0.00704109,  0.96489204, -0.26255243]))"
      ]
     },
     "metadata": {},
     "execution_count": 4
    }
   ],
   "source": [
    "def Power(n, p, n_iter):\n",
    "    X = np.random.normal(loc=0.0, scale=np.sqrt(5), size=(n,p))\n",
    "    u = np.random.rand(X.shape[0]) # create a random N*1 vector\n",
    "    v = np.random.rand(X.shape[1]) # create a random P*1 vector\n",
    "    for i in range(n_iter):\n",
    "        u = np.dot(X, v)\n",
    "        v = np.dot(X.T, u)\n",
    "        v = v / np.linalg.norm(v, ord=2)\n",
    "        u = u / np.linalg.norm(u, ord=2)\n",
    "    return u,v\n",
    "Power(4, 3, 100)"
   ]
  },
  {
   "cell_type": "code",
   "execution_count": 9,
   "metadata": {},
   "outputs": [],
   "source": [
    "from scipy.sparse import csc_matrix\n",
    "from scipy.sparse.linalg import svds, eigs\n",
    "\n",
    "def Power(n, p, n_iter):\n",
    "    X = np.random.normal(loc=0.0, scale=np.sqrt(5), size=(n,p))\n",
    "    u = np.random.rand(X.shape[0]) # create a random N*1 vector\n",
    "    v = np.random.rand(X.shape[1]) # create a random P*1 vector\n",
    "    U = []\n",
    "    V = []\n",
    "    for i in range(n_iter):\n",
    "        u = np.dot(X, v)\n",
    "        v = np.dot(X.T, u)\n",
    "        v = v / np.linalg.norm(v, ord=2)\n",
    "        u = u / np.linalg.norm(u, ord=2)\n",
    "        U.append(u)\n",
    "        V.append(v)\n",
    "    U = np.array(U).T\n",
    "    V = np.array(V).T\n",
    "    return U,V,X\n",
    "\n",
    "u_iter, v_iter, X= Power(4,3,10)"
   ]
  },
  {
   "cell_type": "code",
   "execution_count": 25,
   "metadata": {},
   "outputs": [
    {
     "output_type": "execute_result",
     "data": {
      "text/plain": [
       "(4, 10)"
      ]
     },
     "metadata": {},
     "execution_count": 25
    }
   ],
   "source": [
    "# find eigenvector with the largest eigenvalue\n",
    "eigvec, eigval, eig = scipy.sparse.linalg.svds(X, k=1, which='LM')\n",
    "np.shape(u_iter)"
   ]
  },
  {
   "cell_type": "code",
   "execution_count": 26,
   "metadata": {},
   "outputs": [
    {
     "output_type": "stream",
     "name": "stdout",
     "text": [
      "[10.21541915 10.62452362 10.65017995 10.63361709 10.62621719 10.62378091\n 10.6230346  10.62281094 10.62274439 10.62272463]\n[[ 0.5542611   0.34007582  0.08371907 -0.00826739 -0.03638096 -0.04477832\n  -0.04727381 -0.04801424 -0.04823381 -0.04829891]\n [ 1.00645243  1.43161046  1.52528924  1.53541276  1.53649514  1.53663604\n   1.53666101  1.53666683  1.53666841  1.53666886]\n [ 0.79394328  1.09709046  1.17561441  1.18772458  1.19007685  1.19066007\n   1.19082262  1.19086987  1.19088379  1.19088791]\n [-0.98803837 -0.65272451 -0.51418831 -0.47955786 -0.47055311 -0.4680379\n  -0.46730976 -0.46709585 -0.46703265 -0.46701394]]\n"
     ]
    }
   ],
   "source": [
    "eigvec_n = np.tile(eigvec.T, (4, 10))\n",
    "distance = eigvec - u_iter\n",
    "distance_n = np.linalg.norm(eigval - u_iter, axis=0)\n",
    "print(distance_n)\n",
    "print(distance)"
   ]
  },
  {
   "source": [
    "4) "
   ],
   "cell_type": "markdown",
   "metadata": {}
  },
  {
   "cell_type": "code",
   "execution_count": 3,
   "metadata": {},
   "outputs": [
    {
     "output_type": "execute_result",
     "data": {
      "text/plain": [
       "                    England  Wales  Scotland  N Ireland\n",
       "Cheese                  105    103       103         66\n",
       "Carcass meat            245    227       242        267\n",
       "Other meat              685    803       750        586\n",
       "Fish                    147    160       122         93\n",
       "Fats and oils           193    235       184        209\n",
       "Sugars                  156    175       147        139\n",
       "Fresh potatoes          720    874       566       1033\n",
       "Fresh Veg               253    265       171        143\n",
       "Other Veg               488    570       418        355\n",
       "Processed potatoes      198    203       220        187\n",
       "Processed Veg           360    365       337        334\n",
       "Fresh fruit            1102   1137       957        674\n",
       "Cereals                1472   1582      1462       1494\n",
       "Beverages                57     73        53         47\n",
       "Soft drinks            1374   1256      1572       1506\n",
       "Alcoholic drinks        375    475       458        135\n",
       "Confectionery            54     64        62         41"
      ],
      "text/html": "<div>\n<style scoped>\n    .dataframe tbody tr th:only-of-type {\n        vertical-align: middle;\n    }\n\n    .dataframe tbody tr th {\n        vertical-align: top;\n    }\n\n    .dataframe thead th {\n        text-align: right;\n    }\n</style>\n<table border=\"1\" class=\"dataframe\">\n  <thead>\n    <tr style=\"text-align: right;\">\n      <th></th>\n      <th>England</th>\n      <th>Wales</th>\n      <th>Scotland</th>\n      <th>N Ireland</th>\n    </tr>\n  </thead>\n  <tbody>\n    <tr>\n      <th>Cheese</th>\n      <td>105</td>\n      <td>103</td>\n      <td>103</td>\n      <td>66</td>\n    </tr>\n    <tr>\n      <th>Carcass meat</th>\n      <td>245</td>\n      <td>227</td>\n      <td>242</td>\n      <td>267</td>\n    </tr>\n    <tr>\n      <th>Other meat</th>\n      <td>685</td>\n      <td>803</td>\n      <td>750</td>\n      <td>586</td>\n    </tr>\n    <tr>\n      <th>Fish</th>\n      <td>147</td>\n      <td>160</td>\n      <td>122</td>\n      <td>93</td>\n    </tr>\n    <tr>\n      <th>Fats and oils</th>\n      <td>193</td>\n      <td>235</td>\n      <td>184</td>\n      <td>209</td>\n    </tr>\n    <tr>\n      <th>Sugars</th>\n      <td>156</td>\n      <td>175</td>\n      <td>147</td>\n      <td>139</td>\n    </tr>\n    <tr>\n      <th>Fresh potatoes</th>\n      <td>720</td>\n      <td>874</td>\n      <td>566</td>\n      <td>1033</td>\n    </tr>\n    <tr>\n      <th>Fresh Veg</th>\n      <td>253</td>\n      <td>265</td>\n      <td>171</td>\n      <td>143</td>\n    </tr>\n    <tr>\n      <th>Other Veg</th>\n      <td>488</td>\n      <td>570</td>\n      <td>418</td>\n      <td>355</td>\n    </tr>\n    <tr>\n      <th>Processed potatoes</th>\n      <td>198</td>\n      <td>203</td>\n      <td>220</td>\n      <td>187</td>\n    </tr>\n    <tr>\n      <th>Processed Veg</th>\n      <td>360</td>\n      <td>365</td>\n      <td>337</td>\n      <td>334</td>\n    </tr>\n    <tr>\n      <th>Fresh fruit</th>\n      <td>1102</td>\n      <td>1137</td>\n      <td>957</td>\n      <td>674</td>\n    </tr>\n    <tr>\n      <th>Cereals</th>\n      <td>1472</td>\n      <td>1582</td>\n      <td>1462</td>\n      <td>1494</td>\n    </tr>\n    <tr>\n      <th>Beverages</th>\n      <td>57</td>\n      <td>73</td>\n      <td>53</td>\n      <td>47</td>\n    </tr>\n    <tr>\n      <th>Soft drinks</th>\n      <td>1374</td>\n      <td>1256</td>\n      <td>1572</td>\n      <td>1506</td>\n    </tr>\n    <tr>\n      <th>Alcoholic drinks</th>\n      <td>375</td>\n      <td>475</td>\n      <td>458</td>\n      <td>135</td>\n    </tr>\n    <tr>\n      <th>Confectionery</th>\n      <td>54</td>\n      <td>64</td>\n      <td>62</td>\n      <td>41</td>\n    </tr>\n  </tbody>\n</table>\n</div>"
     },
     "metadata": {},
     "execution_count": 3
    }
   ],
   "source": [
    "defra_com = pd.read_csv(\"http://josephsalmon.eu/enseignement/TELECOM/SD204/defra_consumption.csv\", sep=';', index_col=0)\n",
    "defra_com"
   ]
  },
  {
   "cell_type": "code",
   "execution_count": 4,
   "metadata": {},
   "outputs": [
    {
     "output_type": "execute_result",
     "data": {
      "text/plain": [
       "(17, 4)"
      ]
     },
     "metadata": {},
     "execution_count": 4
    }
   ],
   "source": [
    "from sklearn import preprocessing\n",
    "from sklearn.pipeline import make_pipeline\n",
    "from sklearn.preprocessing import StandardScaler\n",
    "\n",
    "scaler = StandardScaler()\n",
    "defra_scaled = scaler.fit_transform(defra_com)\n",
    "np.shape(defra_scaled)"
   ]
  },
  {
   "cell_type": "code",
   "execution_count": 19,
   "metadata": {},
   "outputs": [
    {
     "output_type": "execute_result",
     "data": {
      "text/plain": [
       "<mpl_toolkits.mplot3d.art3d.Path3DCollection at 0x1ae823a2100>"
      ]
     },
     "metadata": {},
     "execution_count": 19
    },
    {
     "output_type": "display_data",
     "data": {
      "text/plain": "<Figure size 1200x800 with 1 Axes>",
      "image/svg+xml": "<?xml version=\"1.0\" encoding=\"utf-8\" standalone=\"no\"?>\r\n<!DOCTYPE svg PUBLIC \"-//W3C//DTD SVG 1.1//EN\"\r\n  \"http://www.w3.org/Graphics/SVG/1.1/DTD/svg11.dtd\">\r\n<!-- Created with matplotlib (https://matplotlib.org/) -->\r\n<svg height=\"478.397344pt\" version=\"1.1\" viewBox=\"0 0 349.618324 478.397344\" width=\"349.618324pt\" xmlns=\"http://www.w3.org/2000/svg\" xmlns:xlink=\"http://www.w3.org/1999/xlink\">\r\n <defs>\r\n  <style type=\"text/css\">\r\n*{stroke-linecap:butt;stroke-linejoin:round;}\r\n  </style>\r\n </defs>\r\n <g id=\"figure_1\">\r\n  <g id=\"patch_1\">\r\n   <path d=\"M -0 478.397344 \r\nL 349.618324 478.397344 \r\nL 349.618324 0 \r\nL -0 0 \r\nz\r\n\" style=\"fill:#ffffff;\"/>\r\n  </g>\r\n  <g id=\"axes_1\">\r\n   <g id=\"patch_2\">\r\n    <path d=\"M 30.103125 454.519219 \r\nL 334.466761 454.519219 \r\nL 334.466761 10.999219 \r\nL 30.103125 10.999219 \r\nz\r\n\" style=\"fill:#ffffff;\"/>\r\n   </g>\r\n   <g id=\"matplotlib.axis_1\">\r\n    <g id=\"xtick_1\">\r\n     <g id=\"line2d_1\">\r\n      <defs>\r\n       <path d=\"M 0 0 \r\nL 0 3.5 \r\n\" id=\"mfa6c45ed7d\" style=\"stroke:#000000;stroke-width:0.8;\"/>\r\n      </defs>\r\n      <g>\r\n       <use style=\"stroke:#000000;stroke-width:0.8;\" x=\"30.103125\" xlink:href=\"#mfa6c45ed7d\" y=\"454.519219\"/>\r\n      </g>\r\n     </g>\r\n     <g id=\"text_1\">\r\n      <!-- 0.0 -->\r\n      <defs>\r\n       <path d=\"M 31.78125 66.40625 \r\nQ 24.171875 66.40625 20.328125 58.90625 \r\nQ 16.5 51.421875 16.5 36.375 \r\nQ 16.5 21.390625 20.328125 13.890625 \r\nQ 24.171875 6.390625 31.78125 6.390625 \r\nQ 39.453125 6.390625 43.28125 13.890625 \r\nQ 47.125 21.390625 47.125 36.375 \r\nQ 47.125 51.421875 43.28125 58.90625 \r\nQ 39.453125 66.40625 31.78125 66.40625 \r\nz\r\nM 31.78125 74.21875 \r\nQ 44.046875 74.21875 50.515625 64.515625 \r\nQ 56.984375 54.828125 56.984375 36.375 \r\nQ 56.984375 17.96875 50.515625 8.265625 \r\nQ 44.046875 -1.421875 31.78125 -1.421875 \r\nQ 19.53125 -1.421875 13.0625 8.265625 \r\nQ 6.59375 17.96875 6.59375 36.375 \r\nQ 6.59375 54.828125 13.0625 64.515625 \r\nQ 19.53125 74.21875 31.78125 74.21875 \r\nz\r\n\" id=\"DejaVuSans-48\"/>\r\n       <path d=\"M 10.6875 12.40625 \r\nL 21 12.40625 \r\nL 21 0 \r\nL 10.6875 0 \r\nz\r\n\" id=\"DejaVuSans-46\"/>\r\n      </defs>\r\n      <g transform=\"translate(22.151562 469.117656)scale(0.1 -0.1)\">\r\n       <use xlink:href=\"#DejaVuSans-48\"/>\r\n       <use x=\"63.623047\" xlink:href=\"#DejaVuSans-46\"/>\r\n       <use x=\"95.410156\" xlink:href=\"#DejaVuSans-48\"/>\r\n      </g>\r\n     </g>\r\n    </g>\r\n    <g id=\"xtick_2\">\r\n     <g id=\"line2d_2\">\r\n      <g>\r\n       <use style=\"stroke:#000000;stroke-width:0.8;\" x=\"90.975852\" xlink:href=\"#mfa6c45ed7d\" y=\"454.519219\"/>\r\n      </g>\r\n     </g>\r\n     <g id=\"text_2\">\r\n      <!-- 0.2 -->\r\n      <defs>\r\n       <path d=\"M 19.1875 8.296875 \r\nL 53.609375 8.296875 \r\nL 53.609375 0 \r\nL 7.328125 0 \r\nL 7.328125 8.296875 \r\nQ 12.9375 14.109375 22.625 23.890625 \r\nQ 32.328125 33.6875 34.8125 36.53125 \r\nQ 39.546875 41.84375 41.421875 45.53125 \r\nQ 43.3125 49.21875 43.3125 52.78125 \r\nQ 43.3125 58.59375 39.234375 62.25 \r\nQ 35.15625 65.921875 28.609375 65.921875 \r\nQ 23.96875 65.921875 18.8125 64.3125 \r\nQ 13.671875 62.703125 7.8125 59.421875 \r\nL 7.8125 69.390625 \r\nQ 13.765625 71.78125 18.9375 73 \r\nQ 24.125 74.21875 28.421875 74.21875 \r\nQ 39.75 74.21875 46.484375 68.546875 \r\nQ 53.21875 62.890625 53.21875 53.421875 \r\nQ 53.21875 48.921875 51.53125 44.890625 \r\nQ 49.859375 40.875 45.40625 35.40625 \r\nQ 44.1875 33.984375 37.640625 27.21875 \r\nQ 31.109375 20.453125 19.1875 8.296875 \r\nz\r\n\" id=\"DejaVuSans-50\"/>\r\n      </defs>\r\n      <g transform=\"translate(83.02429 469.117656)scale(0.1 -0.1)\">\r\n       <use xlink:href=\"#DejaVuSans-48\"/>\r\n       <use x=\"63.623047\" xlink:href=\"#DejaVuSans-46\"/>\r\n       <use x=\"95.410156\" xlink:href=\"#DejaVuSans-50\"/>\r\n      </g>\r\n     </g>\r\n    </g>\r\n    <g id=\"xtick_3\">\r\n     <g id=\"line2d_3\">\r\n      <g>\r\n       <use style=\"stroke:#000000;stroke-width:0.8;\" x=\"151.84858\" xlink:href=\"#mfa6c45ed7d\" y=\"454.519219\"/>\r\n      </g>\r\n     </g>\r\n     <g id=\"text_3\">\r\n      <!-- 0.4 -->\r\n      <defs>\r\n       <path d=\"M 37.796875 64.3125 \r\nL 12.890625 25.390625 \r\nL 37.796875 25.390625 \r\nz\r\nM 35.203125 72.90625 \r\nL 47.609375 72.90625 \r\nL 47.609375 25.390625 \r\nL 58.015625 25.390625 \r\nL 58.015625 17.1875 \r\nL 47.609375 17.1875 \r\nL 47.609375 0 \r\nL 37.796875 0 \r\nL 37.796875 17.1875 \r\nL 4.890625 17.1875 \r\nL 4.890625 26.703125 \r\nz\r\n\" id=\"DejaVuSans-52\"/>\r\n      </defs>\r\n      <g transform=\"translate(143.897017 469.117656)scale(0.1 -0.1)\">\r\n       <use xlink:href=\"#DejaVuSans-48\"/>\r\n       <use x=\"63.623047\" xlink:href=\"#DejaVuSans-46\"/>\r\n       <use x=\"95.410156\" xlink:href=\"#DejaVuSans-52\"/>\r\n      </g>\r\n     </g>\r\n    </g>\r\n    <g id=\"xtick_4\">\r\n     <g id=\"line2d_4\">\r\n      <g>\r\n       <use style=\"stroke:#000000;stroke-width:0.8;\" x=\"212.721307\" xlink:href=\"#mfa6c45ed7d\" y=\"454.519219\"/>\r\n      </g>\r\n     </g>\r\n     <g id=\"text_4\">\r\n      <!-- 0.6 -->\r\n      <defs>\r\n       <path d=\"M 33.015625 40.375 \r\nQ 26.375 40.375 22.484375 35.828125 \r\nQ 18.609375 31.296875 18.609375 23.390625 \r\nQ 18.609375 15.53125 22.484375 10.953125 \r\nQ 26.375 6.390625 33.015625 6.390625 \r\nQ 39.65625 6.390625 43.53125 10.953125 \r\nQ 47.40625 15.53125 47.40625 23.390625 \r\nQ 47.40625 31.296875 43.53125 35.828125 \r\nQ 39.65625 40.375 33.015625 40.375 \r\nz\r\nM 52.59375 71.296875 \r\nL 52.59375 62.3125 \r\nQ 48.875 64.0625 45.09375 64.984375 \r\nQ 41.3125 65.921875 37.59375 65.921875 \r\nQ 27.828125 65.921875 22.671875 59.328125 \r\nQ 17.53125 52.734375 16.796875 39.40625 \r\nQ 19.671875 43.65625 24.015625 45.921875 \r\nQ 28.375 48.1875 33.59375 48.1875 \r\nQ 44.578125 48.1875 50.953125 41.515625 \r\nQ 57.328125 34.859375 57.328125 23.390625 \r\nQ 57.328125 12.15625 50.6875 5.359375 \r\nQ 44.046875 -1.421875 33.015625 -1.421875 \r\nQ 20.359375 -1.421875 13.671875 8.265625 \r\nQ 6.984375 17.96875 6.984375 36.375 \r\nQ 6.984375 53.65625 15.1875 63.9375 \r\nQ 23.390625 74.21875 37.203125 74.21875 \r\nQ 40.921875 74.21875 44.703125 73.484375 \r\nQ 48.484375 72.75 52.59375 71.296875 \r\nz\r\n\" id=\"DejaVuSans-54\"/>\r\n      </defs>\r\n      <g transform=\"translate(204.769744 469.117656)scale(0.1 -0.1)\">\r\n       <use xlink:href=\"#DejaVuSans-48\"/>\r\n       <use x=\"63.623047\" xlink:href=\"#DejaVuSans-46\"/>\r\n       <use x=\"95.410156\" xlink:href=\"#DejaVuSans-54\"/>\r\n      </g>\r\n     </g>\r\n    </g>\r\n    <g id=\"xtick_5\">\r\n     <g id=\"line2d_5\">\r\n      <g>\r\n       <use style=\"stroke:#000000;stroke-width:0.8;\" x=\"273.594034\" xlink:href=\"#mfa6c45ed7d\" y=\"454.519219\"/>\r\n      </g>\r\n     </g>\r\n     <g id=\"text_5\">\r\n      <!-- 0.8 -->\r\n      <defs>\r\n       <path d=\"M 31.78125 34.625 \r\nQ 24.75 34.625 20.71875 30.859375 \r\nQ 16.703125 27.09375 16.703125 20.515625 \r\nQ 16.703125 13.921875 20.71875 10.15625 \r\nQ 24.75 6.390625 31.78125 6.390625 \r\nQ 38.8125 6.390625 42.859375 10.171875 \r\nQ 46.921875 13.96875 46.921875 20.515625 \r\nQ 46.921875 27.09375 42.890625 30.859375 \r\nQ 38.875 34.625 31.78125 34.625 \r\nz\r\nM 21.921875 38.8125 \r\nQ 15.578125 40.375 12.03125 44.71875 \r\nQ 8.5 49.078125 8.5 55.328125 \r\nQ 8.5 64.0625 14.71875 69.140625 \r\nQ 20.953125 74.21875 31.78125 74.21875 \r\nQ 42.671875 74.21875 48.875 69.140625 \r\nQ 55.078125 64.0625 55.078125 55.328125 \r\nQ 55.078125 49.078125 51.53125 44.71875 \r\nQ 48 40.375 41.703125 38.8125 \r\nQ 48.828125 37.15625 52.796875 32.3125 \r\nQ 56.78125 27.484375 56.78125 20.515625 \r\nQ 56.78125 9.90625 50.3125 4.234375 \r\nQ 43.84375 -1.421875 31.78125 -1.421875 \r\nQ 19.734375 -1.421875 13.25 4.234375 \r\nQ 6.78125 9.90625 6.78125 20.515625 \r\nQ 6.78125 27.484375 10.78125 32.3125 \r\nQ 14.796875 37.15625 21.921875 38.8125 \r\nz\r\nM 18.3125 54.390625 \r\nQ 18.3125 48.734375 21.84375 45.5625 \r\nQ 25.390625 42.390625 31.78125 42.390625 \r\nQ 38.140625 42.390625 41.71875 45.5625 \r\nQ 45.3125 48.734375 45.3125 54.390625 \r\nQ 45.3125 60.0625 41.71875 63.234375 \r\nQ 38.140625 66.40625 31.78125 66.40625 \r\nQ 25.390625 66.40625 21.84375 63.234375 \r\nQ 18.3125 60.0625 18.3125 54.390625 \r\nz\r\n\" id=\"DejaVuSans-56\"/>\r\n      </defs>\r\n      <g transform=\"translate(265.642472 469.117656)scale(0.1 -0.1)\">\r\n       <use xlink:href=\"#DejaVuSans-48\"/>\r\n       <use x=\"63.623047\" xlink:href=\"#DejaVuSans-46\"/>\r\n       <use x=\"95.410156\" xlink:href=\"#DejaVuSans-56\"/>\r\n      </g>\r\n     </g>\r\n    </g>\r\n    <g id=\"xtick_6\">\r\n     <g id=\"line2d_6\">\r\n      <g>\r\n       <use style=\"stroke:#000000;stroke-width:0.8;\" x=\"334.466761\" xlink:href=\"#mfa6c45ed7d\" y=\"454.519219\"/>\r\n      </g>\r\n     </g>\r\n     <g id=\"text_6\">\r\n      <!-- 1.0 -->\r\n      <defs>\r\n       <path d=\"M 12.40625 8.296875 \r\nL 28.515625 8.296875 \r\nL 28.515625 63.921875 \r\nL 10.984375 60.40625 \r\nL 10.984375 69.390625 \r\nL 28.421875 72.90625 \r\nL 38.28125 72.90625 \r\nL 38.28125 8.296875 \r\nL 54.390625 8.296875 \r\nL 54.390625 0 \r\nL 12.40625 0 \r\nz\r\n\" id=\"DejaVuSans-49\"/>\r\n      </defs>\r\n      <g transform=\"translate(326.515199 469.117656)scale(0.1 -0.1)\">\r\n       <use xlink:href=\"#DejaVuSans-49\"/>\r\n       <use x=\"63.623047\" xlink:href=\"#DejaVuSans-46\"/>\r\n       <use x=\"95.410156\" xlink:href=\"#DejaVuSans-48\"/>\r\n      </g>\r\n     </g>\r\n    </g>\r\n   </g>\r\n   <g id=\"matplotlib.axis_2\">\r\n    <g id=\"ytick_1\">\r\n     <g id=\"line2d_7\">\r\n      <defs>\r\n       <path d=\"M 0 0 \r\nL -3.5 0 \r\n\" id=\"mfc6a408554\" style=\"stroke:#000000;stroke-width:0.8;\"/>\r\n      </defs>\r\n      <g>\r\n       <use style=\"stroke:#000000;stroke-width:0.8;\" x=\"30.103125\" xlink:href=\"#mfc6a408554\" y=\"454.519219\"/>\r\n      </g>\r\n     </g>\r\n     <g id=\"text_7\">\r\n      <!-- 0.0 -->\r\n      <g transform=\"translate(7.2 458.318438)scale(0.1 -0.1)\">\r\n       <use xlink:href=\"#DejaVuSans-48\"/>\r\n       <use x=\"63.623047\" xlink:href=\"#DejaVuSans-46\"/>\r\n       <use x=\"95.410156\" xlink:href=\"#DejaVuSans-48\"/>\r\n      </g>\r\n     </g>\r\n    </g>\r\n    <g id=\"ytick_2\">\r\n     <g id=\"line2d_8\">\r\n      <g>\r\n       <use style=\"stroke:#000000;stroke-width:0.8;\" x=\"30.103125\" xlink:href=\"#mfc6a408554\" y=\"365.815219\"/>\r\n      </g>\r\n     </g>\r\n     <g id=\"text_8\">\r\n      <!-- 0.2 -->\r\n      <g transform=\"translate(7.2 369.614438)scale(0.1 -0.1)\">\r\n       <use xlink:href=\"#DejaVuSans-48\"/>\r\n       <use x=\"63.623047\" xlink:href=\"#DejaVuSans-46\"/>\r\n       <use x=\"95.410156\" xlink:href=\"#DejaVuSans-50\"/>\r\n      </g>\r\n     </g>\r\n    </g>\r\n    <g id=\"ytick_3\">\r\n     <g id=\"line2d_9\">\r\n      <g>\r\n       <use style=\"stroke:#000000;stroke-width:0.8;\" x=\"30.103125\" xlink:href=\"#mfc6a408554\" y=\"277.111219\"/>\r\n      </g>\r\n     </g>\r\n     <g id=\"text_9\">\r\n      <!-- 0.4 -->\r\n      <g transform=\"translate(7.2 280.910437)scale(0.1 -0.1)\">\r\n       <use xlink:href=\"#DejaVuSans-48\"/>\r\n       <use x=\"63.623047\" xlink:href=\"#DejaVuSans-46\"/>\r\n       <use x=\"95.410156\" xlink:href=\"#DejaVuSans-52\"/>\r\n      </g>\r\n     </g>\r\n    </g>\r\n    <g id=\"ytick_4\">\r\n     <g id=\"line2d_10\">\r\n      <g>\r\n       <use style=\"stroke:#000000;stroke-width:0.8;\" x=\"30.103125\" xlink:href=\"#mfc6a408554\" y=\"188.407219\"/>\r\n      </g>\r\n     </g>\r\n     <g id=\"text_10\">\r\n      <!-- 0.6 -->\r\n      <g transform=\"translate(7.2 192.206437)scale(0.1 -0.1)\">\r\n       <use xlink:href=\"#DejaVuSans-48\"/>\r\n       <use x=\"63.623047\" xlink:href=\"#DejaVuSans-46\"/>\r\n       <use x=\"95.410156\" xlink:href=\"#DejaVuSans-54\"/>\r\n      </g>\r\n     </g>\r\n    </g>\r\n    <g id=\"ytick_5\">\r\n     <g id=\"line2d_11\">\r\n      <g>\r\n       <use style=\"stroke:#000000;stroke-width:0.8;\" x=\"30.103125\" xlink:href=\"#mfc6a408554\" y=\"99.703219\"/>\r\n      </g>\r\n     </g>\r\n     <g id=\"text_11\">\r\n      <!-- 0.8 -->\r\n      <g transform=\"translate(7.2 103.502437)scale(0.1 -0.1)\">\r\n       <use xlink:href=\"#DejaVuSans-48\"/>\r\n       <use x=\"63.623047\" xlink:href=\"#DejaVuSans-46\"/>\r\n       <use x=\"95.410156\" xlink:href=\"#DejaVuSans-56\"/>\r\n      </g>\r\n     </g>\r\n    </g>\r\n    <g id=\"ytick_6\">\r\n     <g id=\"line2d_12\">\r\n      <g>\r\n       <use style=\"stroke:#000000;stroke-width:0.8;\" x=\"30.103125\" xlink:href=\"#mfc6a408554\" y=\"10.999219\"/>\r\n      </g>\r\n     </g>\r\n     <g id=\"text_12\">\r\n      <!-- 1.0 -->\r\n      <g transform=\"translate(7.2 14.798438)scale(0.1 -0.1)\">\r\n       <use xlink:href=\"#DejaVuSans-49\"/>\r\n       <use x=\"63.623047\" xlink:href=\"#DejaVuSans-46\"/>\r\n       <use x=\"95.410156\" xlink:href=\"#DejaVuSans-48\"/>\r\n      </g>\r\n     </g>\r\n    </g>\r\n   </g>\r\n   <g id=\"patch_3\">\r\n    <path d=\"M 30.103125 454.519219 \r\nL 30.103125 10.999219 \r\n\" style=\"fill:none;stroke:#000000;stroke-linecap:square;stroke-linejoin:miter;stroke-width:0.8;\"/>\r\n   </g>\r\n   <g id=\"patch_4\">\r\n    <path d=\"M 334.466761 454.519219 \r\nL 334.466761 10.999219 \r\n\" style=\"fill:none;stroke:#000000;stroke-linecap:square;stroke-linejoin:miter;stroke-width:0.8;\"/>\r\n   </g>\r\n   <g id=\"patch_5\">\r\n    <path d=\"M 30.103125 454.519219 \r\nL 334.466761 454.519219 \r\n\" style=\"fill:none;stroke:#000000;stroke-linecap:square;stroke-linejoin:miter;stroke-width:0.8;\"/>\r\n   </g>\r\n   <g id=\"patch_6\">\r\n    <path d=\"M 30.103125 10.999219 \r\nL 334.466761 10.999219 \r\n\" style=\"fill:none;stroke:#000000;stroke-linecap:square;stroke-linejoin:miter;stroke-width:0.8;\"/>\r\n   </g>\r\n  </g>\r\n </g>\r\n</svg>\r\n",
      "image/png": "[encoded data removed]"
     },
     "metadata": {}
    }
   ],
   "source": [
    "import matplotlib as mpl\n",
    "import matplotlib.pyplot as plt\n",
    "mpl.rcParams.update(mpl.rcParamsDefault) \n",
    "\n",
    "fig, ax = plt.subplots(figsize=(12, 8))\n",
    "\n",
    "plt.subplot(1, 2, 1)\n",
    "plt.title('England and Wales')\n",
    "plt.scatter(defra_com.iloc[:, 0], defra_com.iloc[:, 1], c='blue', s=60, alpha=0.7)\n",
    "plt.xlabel(defra_com.columns[0])\n",
    "plt.ylabel(defra_com.columns[1])\n",
    "\n",
    "from mpl_toolkits import mplot3d\n",
    "ax2 = plt.axes(projection='3d')\n",
    "# data for the three dimension scattored points\n",
    "plt.subplot(1, 2, 2)\n",
    "zdata = defra_com.England\n",
    "xdata = defra_com.Wales\n",
    "ydata = defra_com.Scotland\n",
    "ax2.scatter3D(xdata, ydata, zdata, cmap='gray')"
   ]
  },
  {
   "source": [
    "EX 5"
   ],
   "cell_type": "markdown",
   "metadata": {}
  },
  {
   "cell_type": "code",
   "execution_count": 53,
   "metadata": {},
   "outputs": [
    {
     "output_type": "execute_result",
     "data": {
      "text/plain": [
       "Index(['mpg', 'cylinders', 'displacement', 'horsepower', 'weight',\n",
       "       'acceleration', 'year', 'origin', 'carname'],\n",
       "      dtype='object')"
      ]
     },
     "metadata": {},
     "execution_count": 53
    }
   ],
   "source": [
    "auto_mpg.columns"
   ]
  },
  {
   "cell_type": "code",
   "execution_count": 95,
   "metadata": {},
   "outputs": [
    {
     "output_type": "execute_result",
     "data": {
      "text/plain": [
       "      mpg  cylinders  displacement  horsepower  weight  acceleration  year  \\\n",
       "0    18.0        8.0         307.0       130.0  3504.0          12.0  70.0   \n",
       "1    15.0        8.0         350.0       165.0  3693.0          11.5  70.0   \n",
       "2    18.0        8.0         318.0       150.0  3436.0          11.0  70.0   \n",
       "3    16.0        8.0         304.0       150.0  3433.0          12.0  70.0   \n",
       "4    17.0        8.0         302.0       140.0  3449.0          10.5  70.0   \n",
       "..    ...        ...           ...         ...     ...           ...   ...   \n",
       "401  27.0        4.0         140.0        86.0  2790.0          15.6  82.0   \n",
       "402  44.0        4.0          97.0        52.0  2130.0          24.6  82.0   \n",
       "403  32.0        4.0         135.0        84.0  2295.0          11.6  82.0   \n",
       "404  28.0        4.0         120.0        79.0  2625.0          18.6  82.0   \n",
       "405  31.0        4.0         119.0        82.0  2720.0          19.4  82.0   \n",
       "\n",
       "     origin                    carname  \n",
       "0       1.0  chevrolet chevelle malibu  \n",
       "1       1.0          buick skylark 320  \n",
       "2       1.0         plymouth satellite  \n",
       "3       1.0              amc rebel sst  \n",
       "4       1.0                ford torino  \n",
       "..      ...                        ...  \n",
       "401     1.0            ford mustang gl  \n",
       "402     2.0                  vw pickup  \n",
       "403     1.0              dodge rampage  \n",
       "404     1.0                ford ranger  \n",
       "405     1.0                 chevy s-10  \n",
       "\n",
       "[406 rows x 9 columns]"
      ],
      "text/html": "<div>\n<style scoped>\n    .dataframe tbody tr th:only-of-type {\n        vertical-align: middle;\n    }\n\n    .dataframe tbody tr th {\n        vertical-align: top;\n    }\n\n    .dataframe thead th {\n        text-align: right;\n    }\n</style>\n<table border=\"1\" class=\"dataframe\">\n  <thead>\n    <tr style=\"text-align: right;\">\n      <th></th>\n      <th>mpg</th>\n      <th>cylinders</th>\n      <th>displacement</th>\n      <th>horsepower</th>\n      <th>weight</th>\n      <th>acceleration</th>\n      <th>year</th>\n      <th>origin</th>\n      <th>carname</th>\n    </tr>\n  </thead>\n  <tbody>\n    <tr>\n      <th>0</th>\n      <td>18.0</td>\n      <td>8.0</td>\n      <td>307.0</td>\n      <td>130.0</td>\n      <td>3504.0</td>\n      <td>12.0</td>\n      <td>70.0</td>\n      <td>1.0</td>\n      <td>chevrolet chevelle malibu</td>\n    </tr>\n    <tr>\n      <th>1</th>\n      <td>15.0</td>\n      <td>8.0</td>\n      <td>350.0</td>\n      <td>165.0</td>\n      <td>3693.0</td>\n      <td>11.5</td>\n      <td>70.0</td>\n      <td>1.0</td>\n      <td>buick skylark 320</td>\n    </tr>\n    <tr>\n      <th>2</th>\n      <td>18.0</td>\n      <td>8.0</td>\n      <td>318.0</td>\n      <td>150.0</td>\n      <td>3436.0</td>\n      <td>11.0</td>\n      <td>70.0</td>\n      <td>1.0</td>\n      <td>plymouth satellite</td>\n    </tr>\n    <tr>\n      <th>3</th>\n      <td>16.0</td>\n      <td>8.0</td>\n      <td>304.0</td>\n      <td>150.0</td>\n      <td>3433.0</td>\n      <td>12.0</td>\n      <td>70.0</td>\n      <td>1.0</td>\n      <td>amc rebel sst</td>\n    </tr>\n    <tr>\n      <th>4</th>\n      <td>17.0</td>\n      <td>8.0</td>\n      <td>302.0</td>\n      <td>140.0</td>\n      <td>3449.0</td>\n      <td>10.5</td>\n      <td>70.0</td>\n      <td>1.0</td>\n      <td>ford torino</td>\n    </tr>\n    <tr>\n      <th>...</th>\n      <td>...</td>\n      <td>...</td>\n      <td>...</td>\n      <td>...</td>\n      <td>...</td>\n      <td>...</td>\n      <td>...</td>\n      <td>...</td>\n      <td>...</td>\n    </tr>\n    <tr>\n      <th>401</th>\n      <td>27.0</td>\n      <td>4.0</td>\n      <td>140.0</td>\n      <td>86.0</td>\n      <td>2790.0</td>\n      <td>15.6</td>\n      <td>82.0</td>\n      <td>1.0</td>\n      <td>ford mustang gl</td>\n    </tr>\n    <tr>\n      <th>402</th>\n      <td>44.0</td>\n      <td>4.0</td>\n      <td>97.0</td>\n      <td>52.0</td>\n      <td>2130.0</td>\n      <td>24.6</td>\n      <td>82.0</td>\n      <td>2.0</td>\n      <td>vw pickup</td>\n    </tr>\n    <tr>\n      <th>403</th>\n      <td>32.0</td>\n      <td>4.0</td>\n      <td>135.0</td>\n      <td>84.0</td>\n      <td>2295.0</td>\n      <td>11.6</td>\n      <td>82.0</td>\n      <td>1.0</td>\n      <td>dodge rampage</td>\n    </tr>\n    <tr>\n      <th>404</th>\n      <td>28.0</td>\n      <td>4.0</td>\n      <td>120.0</td>\n      <td>79.0</td>\n      <td>2625.0</td>\n      <td>18.6</td>\n      <td>82.0</td>\n      <td>1.0</td>\n      <td>ford ranger</td>\n    </tr>\n    <tr>\n      <th>405</th>\n      <td>31.0</td>\n      <td>4.0</td>\n      <td>119.0</td>\n      <td>82.0</td>\n      <td>2720.0</td>\n      <td>19.4</td>\n      <td>82.0</td>\n      <td>1.0</td>\n      <td>chevy s-10</td>\n    </tr>\n  </tbody>\n</table>\n<p>406 rows × 9 columns</p>\n</div>"
     },
     "metadata": {},
     "execution_count": 95
    }
   ],
   "source": [
    "filename = \"auto-mpg.data-original\"\n",
    "column_names = ['mpg', 'cylinders', 'displacement', 'horsepower', 'weight', 'acceleration', 'year', 'origin', 'carname']\n",
    "auto_mpg = pd.read_csv(filename, names=column_names, sep=r\"\\s+\")\n",
    "auto_mpg"
   ]
  },
  {
   "cell_type": "code",
   "execution_count": 96,
   "metadata": {},
   "outputs": [
    {
     "output_type": "execute_result",
     "data": {
      "text/plain": [
       "      mpg  cylinders  displacement  horsepower  weight  acceleration  year  \\\n",
       "0    18.0        8.0         307.0       130.0  3504.0          12.0  70.0   \n",
       "1    15.0        8.0         350.0       165.0  3693.0          11.5  70.0   \n",
       "2    18.0        8.0         318.0       150.0  3436.0          11.0  70.0   \n",
       "3    16.0        8.0         304.0       150.0  3433.0          12.0  70.0   \n",
       "4    17.0        8.0         302.0       140.0  3449.0          10.5  70.0   \n",
       "..    ...        ...           ...         ...     ...           ...   ...   \n",
       "401  27.0        4.0         140.0        86.0  2790.0          15.6  82.0   \n",
       "402  44.0        4.0          97.0        52.0  2130.0          24.6  82.0   \n",
       "403  32.0        4.0         135.0        84.0  2295.0          11.6  82.0   \n",
       "404  28.0        4.0         120.0        79.0  2625.0          18.6  82.0   \n",
       "405  31.0        4.0         119.0        82.0  2720.0          19.4  82.0   \n",
       "\n",
       "     origin  \n",
       "0       1.0  \n",
       "1       1.0  \n",
       "2       1.0  \n",
       "3       1.0  \n",
       "4       1.0  \n",
       "..      ...  \n",
       "401     1.0  \n",
       "402     2.0  \n",
       "403     1.0  \n",
       "404     1.0  \n",
       "405     1.0  \n",
       "\n",
       "[392 rows x 8 columns]"
      ],
      "text/html": "<div>\n<style scoped>\n    .dataframe tbody tr th:only-of-type {\n        vertical-align: middle;\n    }\n\n    .dataframe tbody tr th {\n        vertical-align: top;\n    }\n\n    .dataframe thead th {\n        text-align: right;\n    }\n</style>\n<table border=\"1\" class=\"dataframe\">\n  <thead>\n    <tr style=\"text-align: right;\">\n      <th></th>\n      <th>mpg</th>\n      <th>cylinders</th>\n      <th>displacement</th>\n      <th>horsepower</th>\n      <th>weight</th>\n      <th>acceleration</th>\n      <th>year</th>\n      <th>origin</th>\n    </tr>\n  </thead>\n  <tbody>\n    <tr>\n      <th>0</th>\n      <td>18.0</td>\n      <td>8.0</td>\n      <td>307.0</td>\n      <td>130.0</td>\n      <td>3504.0</td>\n      <td>12.0</td>\n      <td>70.0</td>\n      <td>1.0</td>\n    </tr>\n    <tr>\n      <th>1</th>\n      <td>15.0</td>\n      <td>8.0</td>\n      <td>350.0</td>\n      <td>165.0</td>\n      <td>3693.0</td>\n      <td>11.5</td>\n      <td>70.0</td>\n      <td>1.0</td>\n    </tr>\n    <tr>\n      <th>2</th>\n      <td>18.0</td>\n      <td>8.0</td>\n      <td>318.0</td>\n      <td>150.0</td>\n      <td>3436.0</td>\n      <td>11.0</td>\n      <td>70.0</td>\n      <td>1.0</td>\n    </tr>\n    <tr>\n      <th>3</th>\n      <td>16.0</td>\n      <td>8.0</td>\n      <td>304.0</td>\n      <td>150.0</td>\n      <td>3433.0</td>\n      <td>12.0</td>\n      <td>70.0</td>\n      <td>1.0</td>\n    </tr>\n    <tr>\n      <th>4</th>\n      <td>17.0</td>\n      <td>8.0</td>\n      <td>302.0</td>\n      <td>140.0</td>\n      <td>3449.0</td>\n      <td>10.5</td>\n      <td>70.0</td>\n      <td>1.0</td>\n    </tr>\n    <tr>\n      <th>...</th>\n      <td>...</td>\n      <td>...</td>\n      <td>...</td>\n      <td>...</td>\n      <td>...</td>\n      <td>...</td>\n      <td>...</td>\n      <td>...</td>\n    </tr>\n    <tr>\n      <th>401</th>\n      <td>27.0</td>\n      <td>4.0</td>\n      <td>140.0</td>\n      <td>86.0</td>\n      <td>2790.0</td>\n      <td>15.6</td>\n      <td>82.0</td>\n      <td>1.0</td>\n    </tr>\n    <tr>\n      <th>402</th>\n      <td>44.0</td>\n      <td>4.0</td>\n      <td>97.0</td>\n      <td>52.0</td>\n      <td>2130.0</td>\n      <td>24.6</td>\n      <td>82.0</td>\n      <td>2.0</td>\n    </tr>\n    <tr>\n      <th>403</th>\n      <td>32.0</td>\n      <td>4.0</td>\n      <td>135.0</td>\n      <td>84.0</td>\n      <td>2295.0</td>\n      <td>11.6</td>\n      <td>82.0</td>\n      <td>1.0</td>\n    </tr>\n    <tr>\n      <th>404</th>\n      <td>28.0</td>\n      <td>4.0</td>\n      <td>120.0</td>\n      <td>79.0</td>\n      <td>2625.0</td>\n      <td>18.6</td>\n      <td>82.0</td>\n      <td>1.0</td>\n    </tr>\n    <tr>\n      <th>405</th>\n      <td>31.0</td>\n      <td>4.0</td>\n      <td>119.0</td>\n      <td>82.0</td>\n      <td>2720.0</td>\n      <td>19.4</td>\n      <td>82.0</td>\n      <td>1.0</td>\n    </tr>\n  </tbody>\n</table>\n<p>392 rows × 8 columns</p>\n</div>"
     },
     "metadata": {},
     "execution_count": 96
    }
   ],
   "source": [
    "auto_mpg.isna().sum()\n",
    "auto_mpg.dropna(axis=0, how=\"any\", inplace=True)\n",
    "auto_mpg.drop('carname', axis=1, inplace=True)\n",
    "auto_mpg"
   ]
  },
  {
   "cell_type": "code",
   "execution_count": 115,
   "metadata": {},
   "outputs": [
    {
     "output_type": "execute_result",
     "data": {
      "text/plain": [
       "     mpg  cylinders  displacement  horsepower  weight  acceleration  year  \\\n",
       "0   18.0        8.0         307.0       130.0  3504.0          12.0  70.0   \n",
       "15  15.0        8.0         383.0       170.0  3563.0          10.0  70.0   \n",
       "\n",
       "    origin  \n",
       "0      1.0  \n",
       "15     1.0  "
      ],
      "text/html": "<div>\n<style scoped>\n    .dataframe tbody tr th:only-of-type {\n        vertical-align: middle;\n    }\n\n    .dataframe tbody tr th {\n        vertical-align: top;\n    }\n\n    .dataframe thead th {\n        text-align: right;\n    }\n</style>\n<table border=\"1\" class=\"dataframe\">\n  <thead>\n    <tr style=\"text-align: right;\">\n      <th></th>\n      <th>mpg</th>\n      <th>cylinders</th>\n      <th>displacement</th>\n      <th>horsepower</th>\n      <th>weight</th>\n      <th>acceleration</th>\n      <th>year</th>\n      <th>origin</th>\n    </tr>\n  </thead>\n  <tbody>\n    <tr>\n      <th>0</th>\n      <td>18.0</td>\n      <td>8.0</td>\n      <td>307.0</td>\n      <td>130.0</td>\n      <td>3504.0</td>\n      <td>12.0</td>\n      <td>70.0</td>\n      <td>1.0</td>\n    </tr>\n    <tr>\n      <th>15</th>\n      <td>15.0</td>\n      <td>8.0</td>\n      <td>383.0</td>\n      <td>170.0</td>\n      <td>3563.0</td>\n      <td>10.0</td>\n      <td>70.0</td>\n      <td>1.0</td>\n    </tr>\n  </tbody>\n</table>\n</div>"
     },
     "metadata": {},
     "execution_count": 115
    }
   ],
   "source": [
    "auto_mpg.iloc[[0,10]]"
   ]
  },
  {
   "cell_type": "code",
   "execution_count": 93,
   "metadata": {},
   "outputs": [
    {
     "output_type": "execute_result",
     "data": {
      "text/plain": [
       "      mpg  cylinders  displacement  horsepower  weight  acceleration  year  \\\n",
       "29   26.0        4.0         121.0       113.0  2234.0          12.5  70.0   \n",
       "30   21.0        6.0         199.0        90.0  2648.0          15.0  70.0   \n",
       "31   10.0        8.0         360.0       215.0  4615.0          14.0  70.0   \n",
       "70   14.0        8.0         400.0       175.0  4385.0          12.0  72.0   \n",
       "71   15.0        8.0         318.0       150.0  4135.0          13.5  72.0   \n",
       "72   14.0        8.0         351.0       153.0  4129.0          13.0  72.0   \n",
       "137  26.0        4.0         122.0        80.0  2451.0          16.5  74.0   \n",
       "138  32.0        4.0          71.0        65.0  1836.0          21.0  74.0   \n",
       "239  16.0        8.0         351.0       149.0  4335.0          14.5  77.0   \n",
       "\n",
       "     origin  \n",
       "29      2.0  \n",
       "30      1.0  \n",
       "31      1.0  \n",
       "70      1.0  \n",
       "71      1.0  \n",
       "72      1.0  \n",
       "137     1.0  \n",
       "138     3.0  \n",
       "239     1.0  "
      ],
      "text/html": "<div>\n<style scoped>\n    .dataframe tbody tr th:only-of-type {\n        vertical-align: middle;\n    }\n\n    .dataframe tbody tr th {\n        vertical-align: top;\n    }\n\n    .dataframe thead th {\n        text-align: right;\n    }\n</style>\n<table border=\"1\" class=\"dataframe\">\n  <thead>\n    <tr style=\"text-align: right;\">\n      <th></th>\n      <th>mpg</th>\n      <th>cylinders</th>\n      <th>displacement</th>\n      <th>horsepower</th>\n      <th>weight</th>\n      <th>acceleration</th>\n      <th>year</th>\n      <th>origin</th>\n    </tr>\n  </thead>\n  <tbody>\n    <tr>\n      <th>29</th>\n      <td>26.0</td>\n      <td>4.0</td>\n      <td>121.0</td>\n      <td>113.0</td>\n      <td>2234.0</td>\n      <td>12.5</td>\n      <td>70.0</td>\n      <td>2.0</td>\n    </tr>\n    <tr>\n      <th>30</th>\n      <td>21.0</td>\n      <td>6.0</td>\n      <td>199.0</td>\n      <td>90.0</td>\n      <td>2648.0</td>\n      <td>15.0</td>\n      <td>70.0</td>\n      <td>1.0</td>\n    </tr>\n    <tr>\n      <th>31</th>\n      <td>10.0</td>\n      <td>8.0</td>\n      <td>360.0</td>\n      <td>215.0</td>\n      <td>4615.0</td>\n      <td>14.0</td>\n      <td>70.0</td>\n      <td>1.0</td>\n    </tr>\n    <tr>\n      <th>70</th>\n      <td>14.0</td>\n      <td>8.0</td>\n      <td>400.0</td>\n      <td>175.0</td>\n      <td>4385.0</td>\n      <td>12.0</td>\n      <td>72.0</td>\n      <td>1.0</td>\n    </tr>\n    <tr>\n      <th>71</th>\n      <td>15.0</td>\n      <td>8.0</td>\n      <td>318.0</td>\n      <td>150.0</td>\n      <td>4135.0</td>\n      <td>13.5</td>\n      <td>72.0</td>\n      <td>1.0</td>\n    </tr>\n    <tr>\n      <th>72</th>\n      <td>14.0</td>\n      <td>8.0</td>\n      <td>351.0</td>\n      <td>153.0</td>\n      <td>4129.0</td>\n      <td>13.0</td>\n      <td>72.0</td>\n      <td>1.0</td>\n    </tr>\n    <tr>\n      <th>137</th>\n      <td>26.0</td>\n      <td>4.0</td>\n      <td>122.0</td>\n      <td>80.0</td>\n      <td>2451.0</td>\n      <td>16.5</td>\n      <td>74.0</td>\n      <td>1.0</td>\n    </tr>\n    <tr>\n      <th>138</th>\n      <td>32.0</td>\n      <td>4.0</td>\n      <td>71.0</td>\n      <td>65.0</td>\n      <td>1836.0</td>\n      <td>21.0</td>\n      <td>74.0</td>\n      <td>3.0</td>\n    </tr>\n    <tr>\n      <th>239</th>\n      <td>16.0</td>\n      <td>8.0</td>\n      <td>351.0</td>\n      <td>149.0</td>\n      <td>4335.0</td>\n      <td>14.5</td>\n      <td>77.0</td>\n      <td>1.0</td>\n    </tr>\n  </tbody>\n</table>\n</div>"
     },
     "metadata": {},
     "execution_count": 93
    }
   ],
   "source": [
    "one_hot_encoding_columns = ['USA', 'Europe', 'Japan'];\n",
    "sample = auto_mpg.iloc[row=[23,24,25,62,63,64,128,129,230]]\n",
    "sample"
   ]
  },
  {
   "cell_type": "code",
   "execution_count": null,
   "metadata": {},
   "outputs": [],
   "source": [
    "from sklearn.preprocessing import StandardScaler\n",
    "from sklearn.linear_model import LinearRegression\n",
    "\n",
    "scaler = StandardScaler()\n",
    "auto_mpg_scaled = scaler.transform(auto_mpg)\n",
    "tarauto_mpg_scaled\n",
    "model = LinearRegression(fit_intercept=True)\n",
    "model.fit()"
   ]
  }
 ]
}