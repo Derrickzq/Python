{
 "cells": [
  {
   "cell_type": "code",
   "execution_count": 14,
   "metadata": {},
   "outputs": [],
   "source": [
    "import numpy as np\n",
    "import pandas as pd\n",
    "from timeit import timeit\n",
    "import matplotlib  \n",
    "import matplotlib.pyplot as plt\n",
    "%matplotlib inline\n",
    "import scipy\n",
    "import seaborn as sns"
   ]
  },
  {
   "source": [
    "1)"
   ],
   "cell_type": "markdown",
   "metadata": {}
  },
  {
   "cell_type": "code",
   "execution_count": null,
   "metadata": {},
   "outputs": [],
   "source": [
    "def check(n, p, l):\n",
    "    X = np.random.normal(loc=0.0, scale=np.sqrt(5), size=(n,p))\n",
    "    y = np.random.uniform(low=-1, high=1, size=(n,1))\n",
    "    sym_n = np.dot(X, X.T)\n",
    "    sym_p = np.dot(X.T, X)\n",
    "    inver1 = np.linalg.solve(sym_n + l * np.identity(n), y)\n",
    "    val_left = np.dot(X.T, inver1)\n",
    "    inver2 = np.linalg.solve(sym_p + l * np.identity(p), np.dot(X.T, y))\n",
    "    val_right = inver2\n",
    "    if np.allclose(val_left, val_right):\n",
    "        print(\"The equation is OK!\")\n",
    "    else:\n",
    "        print(\"The equation is not true.\")\n",
    "    return \n",
    "check(100, 2000, 1e-5)\n",
    "check(2000, 100, 1e-5)"
   ]
  },
  {
   "cell_type": "code",
   "execution_count": null,
   "metadata": {},
   "outputs": [],
   "source": [
    "def right(n,p):\n",
    "    X = np.random.normal(loc=0.0, scale=np.sqrt(5), size=(n,p))\n",
    "    y = np.random.uniform(low=-1, high=1, size=(n,1))\n",
    "    val_right = np.linalg.solve(np.dot(X.T, X) + 1e-5 * np.identity(p), np.dot(X.T, y))\n",
    "    return val_right\n",
    "\n",
    "def left(n,p):\n",
    "    X = np.random.normal(loc=0.0, scale=np.sqrt(5), size=(n,p))\n",
    "    y = np.random.uniform(low=-1, high=1, size=(n,1))  \n",
    "    val_left = np.dot(X.T, np.linalg.solve(np.dot(X, X.T) + 1e-5 * np.identity(n), y))\n",
    "    return val_left\n",
    "def t_compare(n, p):\n",
    "    t_left = timeit('left(n, p)', number=1000)\n",
    "    t_right = timeit('right(n, p)', number=1000)\n",
    "    if t_left > t_right:\n",
    "        print(\"The right side of the equation computes more efficiently!\")\n",
    "    else:\n",
    "        print(\"The left side of the equation computes more efficiently!\")\n",
    "    return t_left, t_right"
   ]
  },
  {
   "cell_type": "code",
   "execution_count": null,
   "metadata": {},
   "outputs": [],
   "source": [
    "t_compare(1000, 100)"
   ]
  },
  {
   "source": [
    "2) Random matrix spectrum"
   ],
   "cell_type": "markdown",
   "metadata": {}
  },
  {
   "cell_type": "code",
   "execution_count": null,
   "metadata": {},
   "outputs": [],
   "source": [
    "def distribution(n, p, law):\n",
    "    if law = 'Uniform':\n",
    "        rand_M = np.random.uniform(-2 * sqrt(3), 2 * sqrt(3), (n,p))\n",
    "    elif law = 'uniform'\n",
    "        rand_M = np.random.cauchy\n",
    "    elif law = 'beta'"
   ]
  },
  {
   "cell_type": "code",
   "execution_count": 8,
   "metadata": {},
   "outputs": [
    {
     "output_type": "stream",
     "name": "stdout",
     "text": [
      "Help on built-in function noncentral_chisquare:\n\nnoncentral_chisquare(...) method of numpy.random.mtrand.RandomState instance\n    noncentral_chisquare(df, nonc, size=None)\n    \n    Draw samples from a noncentral chi-square distribution.\n    \n    The noncentral :math:`\\chi^2` distribution is a generalization of\n    the :math:`\\chi^2` distribution.\n    \n    .. note::\n        New code should use the ``noncentral_chisquare`` method of a ``default_rng()``\n        instance instead; see `random-quick-start`.\n    \n    Parameters\n    ----------\n    df : float or array_like of floats\n        Degrees of freedom, must be > 0.\n    \n        .. versionchanged:: 1.10.0\n           Earlier NumPy versions required dfnum > 1.\n    nonc : float or array_like of floats\n        Non-centrality, must be non-negative.\n    size : int or tuple of ints, optional\n        Output shape.  If the given shape is, e.g., ``(m, n, k)``, then\n        ``m * n * k`` samples are drawn.  If size is ``None`` (default),\n        a single value is returned if ``df`` and ``nonc`` are both scalars.\n        Otherwise, ``np.broadcast(df, nonc).size`` samples are drawn.\n    \n    Returns\n    -------\n    out : ndarray or scalar\n        Drawn samples from the parameterized noncentral chi-square distribution.\n    \n    See Also\n    --------\n    Generator.noncentral_chisquare: which should be used for new code.\n    \n    Notes\n    -----\n    The probability density function for the noncentral Chi-square\n    distribution is\n    \n    .. math:: P(x;df,nonc) = \\sum^{\\infty}_{i=0}\n                           \\frac{e^{-nonc/2}(nonc/2)^{i}}{i!}\n                           P_{Y_{df+2i}}(x),\n    \n    where :math:`Y_{q}` is the Chi-square with q degrees of freedom.\n    \n    References\n    ----------\n    .. [1] Wikipedia, \"Noncentral chi-squared distribution\"\n           https://en.wikipedia.org/wiki/Noncentral_chi-squared_distribution\n    \n    Examples\n    --------\n    Draw values from the distribution and plot the histogram\n    \n    >>> import matplotlib.pyplot as plt\n    >>> values = plt.hist(np.random.noncentral_chisquare(3, 20, 100000),\n    ...                   bins=200, density=True)\n    >>> plt.show()\n    \n    Draw values from a noncentral chisquare with very small noncentrality,\n    and compare to a chisquare.\n    \n    >>> plt.figure()\n    >>> values = plt.hist(np.random.noncentral_chisquare(3, .0000001, 100000),\n    ...                   bins=np.arange(0., 25, .1), density=True)\n    >>> values2 = plt.hist(np.random.chisquare(3, 100000),\n    ...                    bins=np.arange(0., 25, .1), density=True)\n    >>> plt.plot(values[1][0:-1], values[0]-values2[0], 'ob')\n    >>> plt.show()\n    \n    Demonstrate how large values of non-centrality lead to a more symmetric\n    distribution.\n    \n    >>> plt.figure()\n    >>> values = plt.hist(np.random.noncentral_chisquare(3, 20, 100000),\n    ...                   bins=200, density=True)\n    >>> plt.show()\n\n"
     ]
    }
   ],
   "source": [
    "help(np.random.noncentral_chisquare)"
   ]
  },
  {
   "source": [
    "3)"
   ],
   "cell_type": "markdown",
   "metadata": {}
  },
  {
   "cell_type": "code",
   "execution_count": 4,
   "metadata": {},
   "outputs": [
    {
     "output_type": "execute_result",
     "data": {
      "text/plain": [
       "(array([-0.40064455, -0.48908501, -0.25784611,  0.73061288]),\n",
       " array([-0.00704109,  0.96489204, -0.26255243]))"
      ]
     },
     "metadata": {},
     "execution_count": 4
    }
   ],
   "source": [
    "def Power(n, p, n_iter):\n",
    "    X = np.random.normal(loc=0.0, scale=np.sqrt(5), size=(n,p))\n",
    "    u = np.random.rand(X.shape[0]) # create a random N*1 vector\n",
    "    v = np.random.rand(X.shape[1]) # create a random P*1 vector\n",
    "    for i in range(n_iter):\n",
    "        u = np.dot(X, v)\n",
    "        v = np.dot(X.T, u)\n",
    "        v = v / np.linalg.norm(v, ord=2)\n",
    "        u = u / np.linalg.norm(u, ord=2)\n",
    "    return u,v\n",
    "Power(4, 3, 100)"
   ]
  },
  {
   "cell_type": "code",
   "execution_count": 9,
   "metadata": {},
   "outputs": [],
   "source": [
    "from scipy.sparse import csc_matrix\n",
    "from scipy.sparse.linalg import svds, eigs\n",
    "\n",
    "def Power(n, p, n_iter):\n",
    "    X = np.random.normal(loc=0.0, scale=np.sqrt(5), size=(n,p))\n",
    "    u = np.random.rand(X.shape[0]) # create a random N*1 vector\n",
    "    v = np.random.rand(X.shape[1]) # create a random P*1 vector\n",
    "    U = []\n",
    "    V = []\n",
    "    for i in range(n_iter):\n",
    "        u = np.dot(X, v)\n",
    "        v = np.dot(X.T, u)\n",
    "        v = v / np.linalg.norm(v, ord=2)\n",
    "        u = u / np.linalg.norm(u, ord=2)\n",
    "        U.append(u)\n",
    "        V.append(v)\n",
    "    U = np.array(U).T\n",
    "    V = np.array(V).T\n",
    "    return U,V,X\n",
    "\n",
    "u_iter, v_iter, X= Power(4,3,10)"
   ]
  },
  {
   "cell_type": "code",
   "execution_count": 25,
   "metadata": {},
   "outputs": [
    {
     "output_type": "execute_result",
     "data": {
      "text/plain": [
       "(4, 10)"
      ]
     },
     "metadata": {},
     "execution_count": 25
    }
   ],
   "source": [
    "# find eigenvector with the largest eigenvalue\n",
    "eigvec, eigval, eig = scipy.sparse.linalg.svds(X, k=1, which='LM')\n",
    "np.shape(u_iter)"
   ]
  },
  {
   "cell_type": "code",
   "execution_count": 26,
   "metadata": {},
   "outputs": [
    {
     "output_type": "stream",
     "name": "stdout",
     "text": [
      "[10.21541915 10.62452362 10.65017995 10.63361709 10.62621719 10.62378091\n 10.6230346  10.62281094 10.62274439 10.62272463]\n[[ 0.5542611   0.34007582  0.08371907 -0.00826739 -0.03638096 -0.04477832\n  -0.04727381 -0.04801424 -0.04823381 -0.04829891]\n [ 1.00645243  1.43161046  1.52528924  1.53541276  1.53649514  1.53663604\n   1.53666101  1.53666683  1.53666841  1.53666886]\n [ 0.79394328  1.09709046  1.17561441  1.18772458  1.19007685  1.19066007\n   1.19082262  1.19086987  1.19088379  1.19088791]\n [-0.98803837 -0.65272451 -0.51418831 -0.47955786 -0.47055311 -0.4680379\n  -0.46730976 -0.46709585 -0.46703265 -0.46701394]]\n"
     ]
    }
   ],
   "source": [
    "eigvec_n = np.tile(eigvec.T, (4, 10))\n",
    "distance = eigvec - u_iter\n",
    "distance_n = np.linalg.norm(eigval - u_iter, axis=0)\n",
    "print(distance_n)\n",
    "print(distance)"
   ]
  },
  {
   "source": [
    "4) "
   ],
   "cell_type": "markdown",
   "metadata": {}
  },
  {
   "cell_type": "code",
   "execution_count": 3,
   "metadata": {},
   "outputs": [
    {
     "output_type": "execute_result",
     "data": {
      "text/plain": [
       "                    England  Wales  Scotland  N Ireland\n",
       "Cheese                  105    103       103         66\n",
       "Carcass meat            245    227       242        267\n",
       "Other meat              685    803       750        586\n",
       "Fish                    147    160       122         93\n",
       "Fats and oils           193    235       184        209\n",
       "Sugars                  156    175       147        139\n",
       "Fresh potatoes          720    874       566       1033\n",
       "Fresh Veg               253    265       171        143\n",
       "Other Veg               488    570       418        355\n",
       "Processed potatoes      198    203       220        187\n",
       "Processed Veg           360    365       337        334\n",
       "Fresh fruit            1102   1137       957        674\n",
       "Cereals                1472   1582      1462       1494\n",
       "Beverages                57     73        53         47\n",
       "Soft drinks            1374   1256      1572       1506\n",
       "Alcoholic drinks        375    475       458        135\n",
       "Confectionery            54     64        62         41"
      ],
      "text/html": "<div>\n<style scoped>\n    .dataframe tbody tr th:only-of-type {\n        vertical-align: middle;\n    }\n\n    .dataframe tbody tr th {\n        vertical-align: top;\n    }\n\n    .dataframe thead th {\n        text-align: right;\n    }\n</style>\n<table border=\"1\" class=\"dataframe\">\n  <thead>\n    <tr style=\"text-align: right;\">\n      <th></th>\n      <th>England</th>\n      <th>Wales</th>\n      <th>Scotland</th>\n      <th>N Ireland</th>\n    </tr>\n  </thead>\n  <tbody>\n    <tr>\n      <th>Cheese</th>\n      <td>105</td>\n      <td>103</td>\n      <td>103</td>\n      <td>66</td>\n    </tr>\n    <tr>\n      <th>Carcass meat</th>\n      <td>245</td>\n      <td>227</td>\n      <td>242</td>\n      <td>267</td>\n    </tr>\n    <tr>\n      <th>Other meat</th>\n      <td>685</td>\n      <td>803</td>\n      <td>750</td>\n      <td>586</td>\n    </tr>\n    <tr>\n      <th>Fish</th>\n      <td>147</td>\n      <td>160</td>\n      <td>122</td>\n      <td>93</td>\n    </tr>\n    <tr>\n      <th>Fats and oils</th>\n      <td>193</td>\n      <td>235</td>\n      <td>184</td>\n      <td>209</td>\n    </tr>\n    <tr>\n      <th>Sugars</th>\n      <td>156</td>\n      <td>175</td>\n      <td>147</td>\n      <td>139</td>\n    </tr>\n    <tr>\n      <th>Fresh potatoes</th>\n      <td>720</td>\n      <td>874</td>\n      <td>566</td>\n      <td>1033</td>\n    </tr>\n    <tr>\n      <th>Fresh Veg</th>\n      <td>253</td>\n      <td>265</td>\n      <td>171</td>\n      <td>143</td>\n    </tr>\n    <tr>\n      <th>Other Veg</th>\n      <td>488</td>\n      <td>570</td>\n      <td>418</td>\n      <td>355</td>\n    </tr>\n    <tr>\n      <th>Processed potatoes</th>\n      <td>198</td>\n      <td>203</td>\n      <td>220</td>\n      <td>187</td>\n    </tr>\n    <tr>\n      <th>Processed Veg</th>\n      <td>360</td>\n      <td>365</td>\n      <td>337</td>\n      <td>334</td>\n    </tr>\n    <tr>\n      <th>Fresh fruit</th>\n      <td>1102</td>\n      <td>1137</td>\n      <td>957</td>\n      <td>674</td>\n    </tr>\n    <tr>\n      <th>Cereals</th>\n      <td>1472</td>\n      <td>1582</td>\n      <td>1462</td>\n      <td>1494</td>\n    </tr>\n    <tr>\n      <th>Beverages</th>\n      <td>57</td>\n      <td>73</td>\n      <td>53</td>\n      <td>47</td>\n    </tr>\n    <tr>\n      <th>Soft drinks</th>\n      <td>1374</td>\n      <td>1256</td>\n      <td>1572</td>\n      <td>1506</td>\n    </tr>\n    <tr>\n      <th>Alcoholic drinks</th>\n      <td>375</td>\n      <td>475</td>\n      <td>458</td>\n      <td>135</td>\n    </tr>\n    <tr>\n      <th>Confectionery</th>\n      <td>54</td>\n      <td>64</td>\n      <td>62</td>\n      <td>41</td>\n    </tr>\n  </tbody>\n</table>\n</div>"
     },
     "metadata": {},
     "execution_count": 3
    }
   ],
   "source": [
    "defra_com = pd.read_csv(\"http://josephsalmon.eu/enseignement/TELECOM/SD204/defra_consumption.csv\", sep=';', index_col=0)\n",
    "defra_com"
   ]
  },
  {
   "cell_type": "code",
   "execution_count": 5,
   "metadata": {},
   "outputs": [
    {
     "output_type": "execute_result",
     "data": {
      "text/plain": [
       "(17, 4)"
      ]
     },
     "metadata": {},
     "execution_count": 5
    }
   ],
   "source": [
    "from sklearn import preprocessing\n",
    "from sklearn.pipeline import make_pipeline\n",
    "from sklearn.preprocessing import StandardScaler\n",
    "\n",
    "scaler = StandardScaler()\n",
    "defra_scaled = scaler.fit_transform(defra_com)\n",
    "np.shape(defra_scaled)"
   ]
  },
  {
   "cell_type": "code",
   "execution_count": 6,
   "metadata": {},
   "outputs": [
    {
     "output_type": "execute_result",
     "data": {
      "text/plain": [
       "<mpl_toolkits.mplot3d.art3d.Path3DCollection at 0x1ee9665bf40>"
      ]
     },
     "metadata": {},
     "execution_count": 6
    }
   ],
   "source": [
    "import matplotlib as mpl\n",
    "import matplotlib.pyplot as plt\n",
    "mpl.rcParams.update(mpl.rcParamsDefault) \n",
    "\n",
    "fig, ax = plt.subplots(figsize=(12, 8))\n",
    "\n",
    "plt.title('England and Wales')\n",
    "plt.scatter(defra_com.iloc[:, 0], defra_com.iloc[:, 1], c='blue', s=60, alpha=0.7)\n",
    "plt.xlabel(defra_com.columns[0])\n",
    "plt.ylabel(defra_com.columns[1])\n",
    "\n",
    "from mpl_toolkits import mplot3d\n",
    "ax2 = plt.axes(projection='3d')\n",
    "# data for the three dimension scattored points\n",
    "zdata = defra_com.England\n",
    "xdata = defra_com.Wales\n",
    "ydata = defra_com.Scotland\n",
    "ax2.scatter3D(xdata, ydata, zdata, cmap='gray')"
   ]
  },
  {
   "source": [
    "EX 5"
   ],
   "cell_type": "markdown",
   "metadata": {}
  },
  {
   "cell_type": "code",
   "execution_count": 2,
   "metadata": {},
   "outputs": [
    {
     "output_type": "execute_result",
     "data": {
      "text/plain": "      mpg  cylinders  displacement  horsepower  weight  acceleration  year  \\\n0    18.0        8.0         307.0       130.0  3504.0          12.0  70.0   \n1    15.0        8.0         350.0       165.0  3693.0          11.5  70.0   \n2    18.0        8.0         318.0       150.0  3436.0          11.0  70.0   \n3    16.0        8.0         304.0       150.0  3433.0          12.0  70.0   \n4    17.0        8.0         302.0       140.0  3449.0          10.5  70.0   \n..    ...        ...           ...         ...     ...           ...   ...   \n401  27.0        4.0         140.0        86.0  2790.0          15.6  82.0   \n402  44.0        4.0          97.0        52.0  2130.0          24.6  82.0   \n403  32.0        4.0         135.0        84.0  2295.0          11.6  82.0   \n404  28.0        4.0         120.0        79.0  2625.0          18.6  82.0   \n405  31.0        4.0         119.0        82.0  2720.0          19.4  82.0   \n\n     origin                    carname  \n0       1.0  chevrolet chevelle malibu  \n1       1.0          buick skylark 320  \n2       1.0         plymouth satellite  \n3       1.0              amc rebel sst  \n4       1.0                ford torino  \n..      ...                        ...  \n401     1.0            ford mustang gl  \n402     2.0                  vw pickup  \n403     1.0              dodge rampage  \n404     1.0                ford ranger  \n405     1.0                 chevy s-10  \n\n[406 rows x 9 columns]",
      "text/html": "<div>\n<style scoped>\n    .dataframe tbody tr th:only-of-type {\n        vertical-align: middle;\n    }\n\n    .dataframe tbody tr th {\n        vertical-align: top;\n    }\n\n    .dataframe thead th {\n        text-align: right;\n    }\n</style>\n<table border=\"1\" class=\"dataframe\">\n  <thead>\n    <tr style=\"text-align: right;\">\n      <th></th>\n      <th>mpg</th>\n      <th>cylinders</th>\n      <th>displacement</th>\n      <th>horsepower</th>\n      <th>weight</th>\n      <th>acceleration</th>\n      <th>year</th>\n      <th>origin</th>\n      <th>carname</th>\n    </tr>\n  </thead>\n  <tbody>\n    <tr>\n      <td>0</td>\n      <td>18.0</td>\n      <td>8.0</td>\n      <td>307.0</td>\n      <td>130.0</td>\n      <td>3504.0</td>\n      <td>12.0</td>\n      <td>70.0</td>\n      <td>1.0</td>\n      <td>chevrolet chevelle malibu</td>\n    </tr>\n    <tr>\n      <td>1</td>\n      <td>15.0</td>\n      <td>8.0</td>\n      <td>350.0</td>\n      <td>165.0</td>\n      <td>3693.0</td>\n      <td>11.5</td>\n      <td>70.0</td>\n      <td>1.0</td>\n      <td>buick skylark 320</td>\n    </tr>\n    <tr>\n      <td>2</td>\n      <td>18.0</td>\n      <td>8.0</td>\n      <td>318.0</td>\n      <td>150.0</td>\n      <td>3436.0</td>\n      <td>11.0</td>\n      <td>70.0</td>\n      <td>1.0</td>\n      <td>plymouth satellite</td>\n    </tr>\n    <tr>\n      <td>3</td>\n      <td>16.0</td>\n      <td>8.0</td>\n      <td>304.0</td>\n      <td>150.0</td>\n      <td>3433.0</td>\n      <td>12.0</td>\n      <td>70.0</td>\n      <td>1.0</td>\n      <td>amc rebel sst</td>\n    </tr>\n    <tr>\n      <td>4</td>\n      <td>17.0</td>\n      <td>8.0</td>\n      <td>302.0</td>\n      <td>140.0</td>\n      <td>3449.0</td>\n      <td>10.5</td>\n      <td>70.0</td>\n      <td>1.0</td>\n      <td>ford torino</td>\n    </tr>\n    <tr>\n      <td>...</td>\n      <td>...</td>\n      <td>...</td>\n      <td>...</td>\n      <td>...</td>\n      <td>...</td>\n      <td>...</td>\n      <td>...</td>\n      <td>...</td>\n      <td>...</td>\n    </tr>\n    <tr>\n      <td>401</td>\n      <td>27.0</td>\n      <td>4.0</td>\n      <td>140.0</td>\n      <td>86.0</td>\n      <td>2790.0</td>\n      <td>15.6</td>\n      <td>82.0</td>\n      <td>1.0</td>\n      <td>ford mustang gl</td>\n    </tr>\n    <tr>\n      <td>402</td>\n      <td>44.0</td>\n      <td>4.0</td>\n      <td>97.0</td>\n      <td>52.0</td>\n      <td>2130.0</td>\n      <td>24.6</td>\n      <td>82.0</td>\n      <td>2.0</td>\n      <td>vw pickup</td>\n    </tr>\n    <tr>\n      <td>403</td>\n      <td>32.0</td>\n      <td>4.0</td>\n      <td>135.0</td>\n      <td>84.0</td>\n      <td>2295.0</td>\n      <td>11.6</td>\n      <td>82.0</td>\n      <td>1.0</td>\n      <td>dodge rampage</td>\n    </tr>\n    <tr>\n      <td>404</td>\n      <td>28.0</td>\n      <td>4.0</td>\n      <td>120.0</td>\n      <td>79.0</td>\n      <td>2625.0</td>\n      <td>18.6</td>\n      <td>82.0</td>\n      <td>1.0</td>\n      <td>ford ranger</td>\n    </tr>\n    <tr>\n      <td>405</td>\n      <td>31.0</td>\n      <td>4.0</td>\n      <td>119.0</td>\n      <td>82.0</td>\n      <td>2720.0</td>\n      <td>19.4</td>\n      <td>82.0</td>\n      <td>1.0</td>\n      <td>chevy s-10</td>\n    </tr>\n  </tbody>\n</table>\n<p>406 rows × 9 columns</p>\n</div>"
     },
     "metadata": {},
     "execution_count": 2
    }
   ],
   "source": [
    "filename = \"auto-mpg.data-original\"\n",
    "column_names = ['mpg', 'cylinders', 'displacement', 'horsepower', 'weight', 'acceleration', 'year', 'origin', 'carname']\n",
    "auto_mpg = pd.read_csv(filename, names=column_names, sep=r\"\\s+\")\n",
    "auto_mpg"
   ]
  },
  {
   "cell_type": "code",
   "execution_count": 3,
   "metadata": {},
   "outputs": [
    {
     "output_type": "execute_result",
     "data": {
      "text/plain": "      mpg  cylinders  displacement  horsepower  weight  acceleration  year  \\\n0    18.0        8.0         307.0       130.0  3504.0          12.0  70.0   \n1    15.0        8.0         350.0       165.0  3693.0          11.5  70.0   \n2    18.0        8.0         318.0       150.0  3436.0          11.0  70.0   \n3    16.0        8.0         304.0       150.0  3433.0          12.0  70.0   \n4    17.0        8.0         302.0       140.0  3449.0          10.5  70.0   \n..    ...        ...           ...         ...     ...           ...   ...   \n401  27.0        4.0         140.0        86.0  2790.0          15.6  82.0   \n402  44.0        4.0          97.0        52.0  2130.0          24.6  82.0   \n403  32.0        4.0         135.0        84.0  2295.0          11.6  82.0   \n404  28.0        4.0         120.0        79.0  2625.0          18.6  82.0   \n405  31.0        4.0         119.0        82.0  2720.0          19.4  82.0   \n\n     origin  \n0       1.0  \n1       1.0  \n2       1.0  \n3       1.0  \n4       1.0  \n..      ...  \n401     1.0  \n402     2.0  \n403     1.0  \n404     1.0  \n405     1.0  \n\n[392 rows x 8 columns]",
      "text/html": "<div>\n<style scoped>\n    .dataframe tbody tr th:only-of-type {\n        vertical-align: middle;\n    }\n\n    .dataframe tbody tr th {\n        vertical-align: top;\n    }\n\n    .dataframe thead th {\n        text-align: right;\n    }\n</style>\n<table border=\"1\" class=\"dataframe\">\n  <thead>\n    <tr style=\"text-align: right;\">\n      <th></th>\n      <th>mpg</th>\n      <th>cylinders</th>\n      <th>displacement</th>\n      <th>horsepower</th>\n      <th>weight</th>\n      <th>acceleration</th>\n      <th>year</th>\n      <th>origin</th>\n    </tr>\n  </thead>\n  <tbody>\n    <tr>\n      <td>0</td>\n      <td>18.0</td>\n      <td>8.0</td>\n      <td>307.0</td>\n      <td>130.0</td>\n      <td>3504.0</td>\n      <td>12.0</td>\n      <td>70.0</td>\n      <td>1.0</td>\n    </tr>\n    <tr>\n      <td>1</td>\n      <td>15.0</td>\n      <td>8.0</td>\n      <td>350.0</td>\n      <td>165.0</td>\n      <td>3693.0</td>\n      <td>11.5</td>\n      <td>70.0</td>\n      <td>1.0</td>\n    </tr>\n    <tr>\n      <td>2</td>\n      <td>18.0</td>\n      <td>8.0</td>\n      <td>318.0</td>\n      <td>150.0</td>\n      <td>3436.0</td>\n      <td>11.0</td>\n      <td>70.0</td>\n      <td>1.0</td>\n    </tr>\n    <tr>\n      <td>3</td>\n      <td>16.0</td>\n      <td>8.0</td>\n      <td>304.0</td>\n      <td>150.0</td>\n      <td>3433.0</td>\n      <td>12.0</td>\n      <td>70.0</td>\n      <td>1.0</td>\n    </tr>\n    <tr>\n      <td>4</td>\n      <td>17.0</td>\n      <td>8.0</td>\n      <td>302.0</td>\n      <td>140.0</td>\n      <td>3449.0</td>\n      <td>10.5</td>\n      <td>70.0</td>\n      <td>1.0</td>\n    </tr>\n    <tr>\n      <td>...</td>\n      <td>...</td>\n      <td>...</td>\n      <td>...</td>\n      <td>...</td>\n      <td>...</td>\n      <td>...</td>\n      <td>...</td>\n      <td>...</td>\n    </tr>\n    <tr>\n      <td>401</td>\n      <td>27.0</td>\n      <td>4.0</td>\n      <td>140.0</td>\n      <td>86.0</td>\n      <td>2790.0</td>\n      <td>15.6</td>\n      <td>82.0</td>\n      <td>1.0</td>\n    </tr>\n    <tr>\n      <td>402</td>\n      <td>44.0</td>\n      <td>4.0</td>\n      <td>97.0</td>\n      <td>52.0</td>\n      <td>2130.0</td>\n      <td>24.6</td>\n      <td>82.0</td>\n      <td>2.0</td>\n    </tr>\n    <tr>\n      <td>403</td>\n      <td>32.0</td>\n      <td>4.0</td>\n      <td>135.0</td>\n      <td>84.0</td>\n      <td>2295.0</td>\n      <td>11.6</td>\n      <td>82.0</td>\n      <td>1.0</td>\n    </tr>\n    <tr>\n      <td>404</td>\n      <td>28.0</td>\n      <td>4.0</td>\n      <td>120.0</td>\n      <td>79.0</td>\n      <td>2625.0</td>\n      <td>18.6</td>\n      <td>82.0</td>\n      <td>1.0</td>\n    </tr>\n    <tr>\n      <td>405</td>\n      <td>31.0</td>\n      <td>4.0</td>\n      <td>119.0</td>\n      <td>82.0</td>\n      <td>2720.0</td>\n      <td>19.4</td>\n      <td>82.0</td>\n      <td>1.0</td>\n    </tr>\n  </tbody>\n</table>\n<p>392 rows × 8 columns</p>\n</div>"
     },
     "metadata": {},
     "execution_count": 3
    }
   ],
   "source": [
    "auto_mpg.isna().sum()\n",
    "auto_mpg.dropna(axis=0, how=\"any\", inplace=True)\n",
    "auto_mpg.drop('carname', axis=1, inplace=True)\n",
    "auto_mpg"
   ]
  },
  {
   "cell_type": "code",
   "execution_count": 4,
   "metadata": {},
   "outputs": [
    {
     "output_type": "execute_result",
     "data": {
      "text/plain": "      mpg  cylinders  displacement  horsepower  weight  acceleration  year  \\\n29   26.0        4.0         121.0       113.0  2234.0          12.5  70.0   \n30   21.0        6.0         199.0        90.0  2648.0          15.0  70.0   \n31   10.0        8.0         360.0       215.0  4615.0          14.0  70.0   \n70   14.0        8.0         400.0       175.0  4385.0          12.0  72.0   \n71   15.0        8.0         318.0       150.0  4135.0          13.5  72.0   \n72   14.0        8.0         351.0       153.0  4129.0          13.0  72.0   \n137  26.0        4.0         122.0        80.0  2451.0          16.5  74.0   \n138  32.0        4.0          71.0        65.0  1836.0          21.0  74.0   \n239  16.0        8.0         351.0       149.0  4335.0          14.5  77.0   \n\n     origin  \n29      2.0  \n30      1.0  \n31      1.0  \n70      1.0  \n71      1.0  \n72      1.0  \n137     1.0  \n138     3.0  \n239     1.0  ",
      "text/html": "<div>\n<style scoped>\n    .dataframe tbody tr th:only-of-type {\n        vertical-align: middle;\n    }\n\n    .dataframe tbody tr th {\n        vertical-align: top;\n    }\n\n    .dataframe thead th {\n        text-align: right;\n    }\n</style>\n<table border=\"1\" class=\"dataframe\">\n  <thead>\n    <tr style=\"text-align: right;\">\n      <th></th>\n      <th>mpg</th>\n      <th>cylinders</th>\n      <th>displacement</th>\n      <th>horsepower</th>\n      <th>weight</th>\n      <th>acceleration</th>\n      <th>year</th>\n      <th>origin</th>\n    </tr>\n  </thead>\n  <tbody>\n    <tr>\n      <td>29</td>\n      <td>26.0</td>\n      <td>4.0</td>\n      <td>121.0</td>\n      <td>113.0</td>\n      <td>2234.0</td>\n      <td>12.5</td>\n      <td>70.0</td>\n      <td>2.0</td>\n    </tr>\n    <tr>\n      <td>30</td>\n      <td>21.0</td>\n      <td>6.0</td>\n      <td>199.0</td>\n      <td>90.0</td>\n      <td>2648.0</td>\n      <td>15.0</td>\n      <td>70.0</td>\n      <td>1.0</td>\n    </tr>\n    <tr>\n      <td>31</td>\n      <td>10.0</td>\n      <td>8.0</td>\n      <td>360.0</td>\n      <td>215.0</td>\n      <td>4615.0</td>\n      <td>14.0</td>\n      <td>70.0</td>\n      <td>1.0</td>\n    </tr>\n    <tr>\n      <td>70</td>\n      <td>14.0</td>\n      <td>8.0</td>\n      <td>400.0</td>\n      <td>175.0</td>\n      <td>4385.0</td>\n      <td>12.0</td>\n      <td>72.0</td>\n      <td>1.0</td>\n    </tr>\n    <tr>\n      <td>71</td>\n      <td>15.0</td>\n      <td>8.0</td>\n      <td>318.0</td>\n      <td>150.0</td>\n      <td>4135.0</td>\n      <td>13.5</td>\n      <td>72.0</td>\n      <td>1.0</td>\n    </tr>\n    <tr>\n      <td>72</td>\n      <td>14.0</td>\n      <td>8.0</td>\n      <td>351.0</td>\n      <td>153.0</td>\n      <td>4129.0</td>\n      <td>13.0</td>\n      <td>72.0</td>\n      <td>1.0</td>\n    </tr>\n    <tr>\n      <td>137</td>\n      <td>26.0</td>\n      <td>4.0</td>\n      <td>122.0</td>\n      <td>80.0</td>\n      <td>2451.0</td>\n      <td>16.5</td>\n      <td>74.0</td>\n      <td>1.0</td>\n    </tr>\n    <tr>\n      <td>138</td>\n      <td>32.0</td>\n      <td>4.0</td>\n      <td>71.0</td>\n      <td>65.0</td>\n      <td>1836.0</td>\n      <td>21.0</td>\n      <td>74.0</td>\n      <td>3.0</td>\n    </tr>\n    <tr>\n      <td>239</td>\n      <td>16.0</td>\n      <td>8.0</td>\n      <td>351.0</td>\n      <td>149.0</td>\n      <td>4335.0</td>\n      <td>14.5</td>\n      <td>77.0</td>\n      <td>1.0</td>\n    </tr>\n  </tbody>\n</table>\n</div>"
     },
     "metadata": {},
     "execution_count": 4
    }
   ],
   "source": [
    "one_hot_encoding_columns = ['USA', 'Europe', 'Japan']\n",
    "sample = auto_mpg.iloc[[23,24,25,62,63,64,128,129,230]]\n",
    "sample"
   ]
  },
  {
   "cell_type": "code",
   "execution_count": 5,
   "metadata": {},
   "outputs": [
    {
     "output_type": "execute_result",
     "data": {
      "text/plain": "Pipeline(memory=None,\n         steps=[('standardscaler',\n                 StandardScaler(copy=True, with_mean=True, with_std=True)),\n                ('linearregression',\n                 LinearRegression(copy_X=True, fit_intercept=True, n_jobs=None,\n                                  normalize=False))],\n         verbose=False)"
     },
     "metadata": {},
     "execution_count": 5
    }
   ],
   "source": [
    "from sklearn.model_selection import train_test_split\n",
    "from sklearn.pipeline import make_pipeline\n",
    "from sklearn.preprocessing import StandardScaler\n",
    "from sklearn.linear_model import LinearRegression\n",
    "from sklearn.model_selection import cross_val_score\n",
    "\n",
    "target = auto_mpg['mpg']\n",
    "auto_mpg.drop('mpg', axis=1, inplace=True)\n",
    "\n",
    "data_train, data_test, target_train, target_test = train_test_split(\n",
    "    auto_mpg, target, random_state=42\n",
    ")\n",
    "scaler = StandardScaler()\n",
    "model = make_pipeline(scaler, LinearRegression(fit_intercept=True))\n",
    "model.fit(data_train, target_train)"
   ]
  },
  {
   "cell_type": "code",
   "execution_count": 10,
   "metadata": {},
   "outputs": [
    {
     "output_type": "stream",
     "name": "stdout",
     "text": "The different scores obtained are: \n[0.55691895 0.68950582 0.82212138 0.6795006  0.2250594 ]\n"
    }
   ],
   "source": [
    "scores_scaled = cross_val_score(model, auto_mpg, target, cv=5)\n",
    "print(f\"The different scores obtained are: \\n{scores}\")"
   ]
  },
  {
   "cell_type": "code",
   "execution_count": 12,
   "metadata": {},
   "outputs": [
    {
     "output_type": "stream",
     "name": "stdout",
     "text": "The accuracy is: 0.595 +- 0.203\n"
    }
   ],
   "source": [
    "print(f\"The accuracy is: {scores_scaled.mean():.3f} +- {scores_scaled.std():.3f}\")"
   ]
  },
  {
   "cell_type": "code",
   "execution_count": 15,
   "metadata": {},
   "outputs": [],
   "source": [
    "coef = model['linearregression'].coef_ \n",
    "intercept = model['linearregression'].intercept_"
   ]
  },
  {
   "cell_type": "markdown",
   "metadata": {},
   "source": [
    "May be the weight is the most important elemnt in deciding the mpg"
   ]
  },
  {
   "cell_type": "markdown",
   "metadata": {},
   "source": [
    "without the standscalar of the y"
   ]
  },
  {
   "cell_type": "code",
   "execution_count": null,
   "metadata": {},
   "outputs": [],
   "source": []
  }
 ],
 "metadata": {
  "language_info": {
   "codemirror_mode": {
    "name": "ipython",
    "version": 3
   },
   "file_extension": ".py",
   "mimetype": "text/x-python",
   "name": "python",
   "nbconvert_exporter": "python",
   "pygments_lexer": "ipython3",
   "version": "3.7.4-final"
  },
  "orig_nbformat": 2,
  "kernelspec": {
   "name": "python37464bitbaseconda4bb2c62c539f42adb3efe4e89bbd8c56",
   "display_name": "Python 3.7.4 64-bit ('base': conda)",
   "metadata": {
    "interpreter": {
     "hash": "07efdcd4b820c98a756949507a4d29d7862823915ec7477944641bea022f4f62"
    }
   }
  }
 },
 "nbformat": 4,
 "nbformat_minor": 2
}